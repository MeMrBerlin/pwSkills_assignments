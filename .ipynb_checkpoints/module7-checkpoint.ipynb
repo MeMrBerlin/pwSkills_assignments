{
 "cells": [
  {
   "cell_type": "code",
   "execution_count": 1,
   "id": "895256f1-2ade-4c9b-b160-bd0eccebee2d",
   "metadata": {},
   "outputs": [],
   "source": [
    "class Car:\n",
    "    pass"
   ]
  },
  {
   "cell_type": "code",
   "execution_count": 2,
   "id": "86a82983-6a0c-4eef-b666-98e947c8552e",
   "metadata": {},
   "outputs": [],
   "source": [
    "c1 = Car()"
   ]
  },
  {
   "cell_type": "code",
   "execution_count": 3,
   "id": "5dc96494-acb0-43e2-a766-18f9e7a12d4b",
   "metadata": {},
   "outputs": [
    {
     "name": "stdout",
     "output_type": "stream",
     "text": [
      "<class '__main__.Car'>\n"
     ]
    }
   ],
   "source": [
    "print(type(c1))"
   ]
  },
  {
   "cell_type": "code",
   "execution_count": 4,
   "id": "065c0645-6a8d-4487-be97-ebcdf42f246c",
   "metadata": {},
   "outputs": [],
   "source": [
    "class Bank:\n",
    "    def withdraw(self):\n",
    "        print(\"withdraw money\")\n",
    "    def deposite(self):\n",
    "        print(\"deposite money\")"
   ]
  },
  {
   "cell_type": "code",
   "execution_count": 5,
   "id": "0bf845f5-0169-43dc-99bc-24c7b3e317ef",
   "metadata": {},
   "outputs": [],
   "source": [
    "c1 = Bank()\n"
   ]
  },
  {
   "cell_type": "code",
   "execution_count": 6,
   "id": "2ccfb81e-c409-49a0-804c-d94d5a862179",
   "metadata": {},
   "outputs": [
    {
     "name": "stdout",
     "output_type": "stream",
     "text": [
      "withdraw money\n"
     ]
    }
   ],
   "source": [
    "c1.withdraw()"
   ]
  },
  {
   "cell_type": "code",
   "execution_count": 7,
   "id": "65be30f8-171d-4bda-9acf-99e265bf9acb",
   "metadata": {},
   "outputs": [],
   "source": [
    "class oddEven:\n",
    "    def __init__(self,l):\n",
    "        self.l = l\n",
    "    def findEven(self):\n",
    "        l = self.l\n",
    "        l1 = []\n",
    "        for  i in l:\n",
    "            if(i%2==0):\n",
    "                l1.append(i)\n",
    "        return  l1\n",
    "    def findOdd(self):\n",
    "        l = self.l\n",
    "        l1 = []\n",
    "        for  i in l:\n",
    "            if(i%2!=0):\n",
    "                l1.append(i)\n",
    "        return l1"
   ]
  },
  {
   "cell_type": "code",
   "execution_count": 8,
   "id": "ac791047-6a81-41ef-8d36-0eefde60e31e",
   "metadata": {},
   "outputs": [],
   "source": [
    "lst1 = oddEven([1,2,3,4,5])"
   ]
  },
  {
   "cell_type": "code",
   "execution_count": 9,
   "id": "01c648ef-ea7a-45ac-8533-46f2f6b164e3",
   "metadata": {},
   "outputs": [
    {
     "data": {
      "text/plain": [
       "[2, 4]"
      ]
     },
     "execution_count": 9,
     "metadata": {},
     "output_type": "execute_result"
    }
   ],
   "source": [
    "lst1.findEven()"
   ]
  },
  {
   "cell_type": "code",
   "execution_count": 10,
   "id": "4cff1f47-bbfd-4903-b3d0-e20a79180c7e",
   "metadata": {},
   "outputs": [
    {
     "data": {
      "text/plain": [
       "[1, 3, 5]"
      ]
     },
     "execution_count": 10,
     "metadata": {},
     "output_type": "execute_result"
    }
   ],
   "source": [
    "lst1.findOdd()"
   ]
  },
  {
   "cell_type": "code",
   "execution_count": null,
   "id": "592f22dd-6ac7-4229-b52c-4c277f4879a8",
   "metadata": {},
   "outputs": [],
   "source": []
  }
 ],
 "metadata": {
  "kernelspec": {
   "display_name": "Python 3 (ipykernel)",
   "language": "python",
   "name": "python3"
  },
  "language_info": {
   "codemirror_mode": {
    "name": "ipython",
    "version": 3
   },
   "file_extension": ".py",
   "mimetype": "text/x-python",
   "name": "python",
   "nbconvert_exporter": "python",
   "pygments_lexer": "ipython3",
   "version": "3.10.8"
  }
 },
 "nbformat": 4,
 "nbformat_minor": 5
}
