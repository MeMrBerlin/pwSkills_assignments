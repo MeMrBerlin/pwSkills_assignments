{
 "cells": [
  {
   "cell_type": "code",
   "execution_count": 1,
   "id": "16285b26-d0d8-4c28-af01-38663db4cb2e",
   "metadata": {},
   "outputs": [
    {
     "name": "stdout",
     "output_type": "stream",
     "text": [
      "120\n"
     ]
    }
   ],
   "source": [
    "# using lambda function\n",
    "fac_num = lambda n: 1 if n==0 else fac_num(n-1)*n\n",
    "print (fac_num(5))\n"
   ]
  },
  {
   "cell_type": "code",
   "execution_count": 2,
   "id": "3e3d0abb-3580-467d-bdc8-765e51510f20",
   "metadata": {},
   "outputs": [
    {
     "name": "stdout",
     "output_type": "stream",
     "text": [
      "[0, 1, 1, 2, 3, 5, 8, 13, 21, 34]\n"
     ]
    }
   ],
   "source": [
    "# using lambda function\n",
    "\n",
    "fib_num = lambda n: n if n<=1 else fib_num(n-1)+fib_num(n-2)\n",
    "print([fib_num(i) for i in range(10)])"
   ]
  },
  {
   "cell_type": "code",
   "execution_count": 3,
   "id": "2dc9e0f5-8c2d-48bd-a128-5d3c348dcd6e",
   "metadata": {},
   "outputs": [],
   "source": [
    "#make a list and square each element"
   ]
  },
  {
   "cell_type": "code",
   "execution_count": 4,
   "id": "7f26d1bc-3356-4203-b5ab-f8fa645d2f20",
   "metadata": {},
   "outputs": [],
   "source": [
    "l=[1,2,3,4,5,6,7,8,9,10]"
   ]
  },
  {
   "cell_type": "code",
   "execution_count": 21,
   "id": "ee82853a-77a6-4f40-a95f-1df4e5212c3c",
   "metadata": {},
   "outputs": [],
   "source": [
    "l=[1,2,3,4,5,6,7,8,9,10]\n",
    "def sq(l):\n",
    "    sqList = []\n",
    "    for i in l:\n",
    "        sqList.append(i*i)\n",
    "    return sqList"
   ]
  },
  {
   "cell_type": "code",
   "execution_count": 22,
   "id": "9a0f37da-4e31-462f-a40a-7a43016665ec",
   "metadata": {},
   "outputs": [
    {
     "data": {
      "text/plain": [
       "[1, 4, 9, 16, 25, 36, 49, 64, 81, 100]"
      ]
     },
     "execution_count": 22,
     "metadata": {},
     "output_type": "execute_result"
    }
   ],
   "source": [
    "sq(l)"
   ]
  },
  {
   "cell_type": "code",
   "execution_count": 27,
   "id": "bb9ea7fd-44ce-4c99-bbde-9ce41b56a389",
   "metadata": {},
   "outputs": [],
   "source": [
    "# map(function, iterable)"
   ]
  },
  {
   "cell_type": "code",
   "execution_count": 29,
   "id": "8f153707-3f70-475e-af1e-7e35d6c3c568",
   "metadata": {},
   "outputs": [
    {
     "name": "stdout",
     "output_type": "stream",
     "text": [
      "Help on class map in module builtins:\n",
      "\n",
      "class map(object)\n",
      " |  map(func, *iterables) --> map object\n",
      " |  \n",
      " |  Make an iterator that computes the function using arguments from\n",
      " |  each of the iterables.  Stops when the shortest iterable is exhausted.\n",
      " |  \n",
      " |  Methods defined here:\n",
      " |  \n",
      " |  __getattribute__(self, name, /)\n",
      " |      Return getattr(self, name).\n",
      " |  \n",
      " |  __iter__(self, /)\n",
      " |      Implement iter(self).\n",
      " |  \n",
      " |  __next__(self, /)\n",
      " |      Implement next(self).\n",
      " |  \n",
      " |  __reduce__(...)\n",
      " |      Return state information for pickling.\n",
      " |  \n",
      " |  ----------------------------------------------------------------------\n",
      " |  Static methods defined here:\n",
      " |  \n",
      " |  __new__(*args, **kwargs) from builtins.type\n",
      " |      Create and return a new object.  See help(type) for accurate signature.\n",
      "\n"
     ]
    }
   ],
   "source": [
    "help(map)"
   ]
  },
  {
   "cell_type": "code",
   "execution_count": 24,
   "id": "deaaae57-0cc3-4412-b090-12b898f8c9ca",
   "metadata": {},
   "outputs": [],
   "source": [
    "def sqNum(x):\n",
    "    return x*x\n"
   ]
  },
  {
   "cell_type": "code",
   "execution_count": 25,
   "id": "8505bab8-855b-4cca-aa43-9a7e412e5028",
   "metadata": {},
   "outputs": [
    {
     "data": {
      "text/plain": [
       "<map at 0x7fc2683428f0>"
      ]
     },
     "execution_count": 25,
     "metadata": {},
     "output_type": "execute_result"
    }
   ],
   "source": [
    "map(sqNum,l)"
   ]
  },
  {
   "cell_type": "code",
   "execution_count": 26,
   "id": "8015b0e6-0dd5-420a-9dc4-d98e28e718ac",
   "metadata": {},
   "outputs": [
    {
     "data": {
      "text/plain": [
       "[1, 4, 9, 16, 25, 36, 49, 64, 81, 100]"
      ]
     },
     "execution_count": 26,
     "metadata": {},
     "output_type": "execute_result"
    }
   ],
   "source": [
    "list(map(sqNum,l))"
   ]
  },
  {
   "cell_type": "code",
   "execution_count": null,
   "id": "c793ed43-7965-435f-b98e-3570e4656d6c",
   "metadata": {},
   "outputs": [],
   "source": [
    "# using lambda function"
   ]
  },
  {
   "cell_type": "code",
   "execution_count": 30,
   "id": "f535f7a6-052a-475b-ad98-9d759723146c",
   "metadata": {},
   "outputs": [
    {
     "data": {
      "text/plain": [
       "[1, 4, 9, 16, 25, 36, 49, 64, 81, 100]"
      ]
     },
     "execution_count": 30,
     "metadata": {},
     "output_type": "execute_result"
    }
   ],
   "source": [
    "list(map(lambda x:x*x, l))"
   ]
  },
  {
   "cell_type": "code",
   "execution_count": 31,
   "id": "6a6f2495-8e2c-4678-92a8-5760b639d25a",
   "metadata": {},
   "outputs": [],
   "source": [
    "l1 = [1,2,3,4,5]\n",
    "l2 = [6,7,8,9,10]"
   ]
  },
  {
   "cell_type": "code",
   "execution_count": 32,
   "id": "cde34163-1a51-4eaf-b258-e62ef489e898",
   "metadata": {},
   "outputs": [
    {
     "data": {
      "text/plain": [
       "[7, 9, 11, 13, 15]"
      ]
     },
     "execution_count": 32,
     "metadata": {},
     "output_type": "execute_result"
    }
   ],
   "source": [
    "list(map(lambda a,b:a+b,l1,l2))"
   ]
  },
  {
   "cell_type": "code",
   "execution_count": 35,
   "id": "430005f1-12b4-4355-b2e3-ce826c3afef9",
   "metadata": {},
   "outputs": [
    {
     "data": {
      "text/plain": [
       "[False, False, False, False, False]"
      ]
     },
     "execution_count": 35,
     "metadata": {},
     "output_type": "execute_result"
    }
   ],
   "source": [
    "list(map(lambda a,b:b/a==0,l1,l2))"
   ]
  },
  {
   "cell_type": "code",
   "execution_count": 36,
   "id": "3cc34001-a412-41e4-bd0a-39fc36b3aee7",
   "metadata": {},
   "outputs": [],
   "source": [
    "name = \"nishan\""
   ]
  },
  {
   "cell_type": "code",
   "execution_count": 44,
   "id": "b7bf30fd-13fd-43e4-b4dd-3d1dbf95b7da",
   "metadata": {},
   "outputs": [
    {
     "data": {
      "text/plain": [
       "['n', '-', 's', 'h', '-', 'n']"
      ]
     },
     "execution_count": 44,
     "metadata": {},
     "output_type": "execute_result"
    }
   ],
   "source": [
    "list(map(lambda x:x if x not in \"aeiou\" else '-',name))"
   ]
  },
  {
   "cell_type": "code",
   "execution_count": 45,
   "id": "2734f848-42e2-424a-9cc9-1b498c045b03",
   "metadata": {},
   "outputs": [
    {
     "data": {
      "text/plain": [
       "[1, 2, 3, 4, 5, 6, 7, 8, 9, 10]"
      ]
     },
     "execution_count": 45,
     "metadata": {},
     "output_type": "execute_result"
    }
   ],
   "source": [
    "l"
   ]
  },
  {
   "cell_type": "code",
   "execution_count": 46,
   "id": "4315e665-97ad-4091-a6c6-efc171873f37",
   "metadata": {},
   "outputs": [
    {
     "data": {
      "text/plain": [
       "[False, True, False, True, False, True, False, True, False, True]"
      ]
     },
     "execution_count": 46,
     "metadata": {},
     "output_type": "execute_result"
    }
   ],
   "source": [
    "list(map(lambda x: x%2==0,l))"
   ]
  },
  {
   "cell_type": "code",
   "execution_count": 47,
   "id": "1f20c445-9243-4d9c-be53-2c4abc1a09f1",
   "metadata": {},
   "outputs": [
    {
     "data": {
      "text/plain": [
       "[2, 4, 6, 8, 10]"
      ]
     },
     "execution_count": 47,
     "metadata": {},
     "output_type": "execute_result"
    }
   ],
   "source": [
    "list(filter(lambda x: x%2==0,l))"
   ]
  },
  {
   "cell_type": "code",
   "execution_count": null,
   "id": "3755b8b5-ded1-400d-95ef-ee5cb1617c17",
   "metadata": {},
   "outputs": [],
   "source": []
  }
 ],
 "metadata": {
  "kernelspec": {
   "display_name": "Python 3 (ipykernel)",
   "language": "python",
   "name": "python3"
  },
  "language_info": {
   "codemirror_mode": {
    "name": "ipython",
    "version": 3
   },
   "file_extension": ".py",
   "mimetype": "text/x-python",
   "name": "python",
   "nbconvert_exporter": "python",
   "pygments_lexer": "ipython3",
   "version": "3.10.8"
  }
 },
 "nbformat": 4,
 "nbformat_minor": 5
}
