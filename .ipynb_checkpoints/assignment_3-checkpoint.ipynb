{
 "cells": [
  {
   "cell_type": "code",
   "execution_count": 1,
   "id": "e58d5d7d-994a-468a-acb8-1d7b99dc594a",
   "metadata": {},
   "outputs": [],
   "source": [
    "# 1.write a code to reverse a string"
   ]
  },
  {
   "cell_type": "code",
   "execution_count": 14,
   "id": "7636cc39-3a18-4dbf-99f2-1f222734c99b",
   "metadata": {},
   "outputs": [
    {
     "name": "stdin",
     "output_type": "stream",
     "text": [
      "Enter a name nishan\n"
     ]
    }
   ],
   "source": [
    "name = input(\"Enter a name\")"
   ]
  },
  {
   "cell_type": "code",
   "execution_count": 15,
   "id": "5b72ccdc-3153-4649-8459-318f2826085a",
   "metadata": {},
   "outputs": [
    {
     "data": {
      "text/plain": [
       "'nishan'"
      ]
     },
     "execution_count": 15,
     "metadata": {},
     "output_type": "execute_result"
    }
   ],
   "source": [
    "name"
   ]
  },
  {
   "cell_type": "code",
   "execution_count": 7,
   "id": "21ea5fa3-8e1a-43bb-a585-143b781c3a80",
   "metadata": {},
   "outputs": [],
   "source": [
    "def reverseString(name):\n",
    "    return name[::-1]"
   ]
  },
  {
   "cell_type": "code",
   "execution_count": 8,
   "id": "f508d937-73b2-4916-a41c-0197d869c3a6",
   "metadata": {},
   "outputs": [
    {
     "data": {
      "text/plain": [
       "'nahsin'"
      ]
     },
     "execution_count": 8,
     "metadata": {},
     "output_type": "execute_result"
    }
   ],
   "source": [
    "reverseString(name)"
   ]
  },
  {
   "cell_type": "code",
   "execution_count": 12,
   "id": "0c07aa8c-c7c7-46f2-8f46-e8d7efba8148",
   "metadata": {},
   "outputs": [],
   "source": [
    "# 2.write a code to count the number of vowels in a string"
   ]
  },
  {
   "cell_type": "code",
   "execution_count": 10,
   "id": "4ccbb214-d518-4bbc-84bb-8ec5575824a5",
   "metadata": {},
   "outputs": [],
   "source": [
    "def countViowel(name):\n",
    "    count = 0;\n",
    "    for i in 'aeiou':\n",
    "        for j in name:\n",
    "            if(i == j):\n",
    "                count = count+1;\n",
    "    return count"
   ]
  },
  {
   "cell_type": "code",
   "execution_count": 11,
   "id": "0fd56a54-1ca2-478c-9c52-fd6686560fdf",
   "metadata": {},
   "outputs": [
    {
     "data": {
      "text/plain": [
       "2"
      ]
     },
     "execution_count": 11,
     "metadata": {},
     "output_type": "execute_result"
    }
   ],
   "source": [
    "countViowel(name)"
   ]
  },
  {
   "cell_type": "code",
   "execution_count": 13,
   "id": "233a0959-bf16-431a-b3c1-fc42ce892233",
   "metadata": {},
   "outputs": [],
   "source": [
    "# 3.Write a code to check if a given string is a palindrome or no"
   ]
  },
  {
   "cell_type": "code",
   "execution_count": 15,
   "id": "8969e062-515d-438c-97eb-bd8e8f25b6c6",
   "metadata": {},
   "outputs": [],
   "source": [
    "def checkPalindrome(name):\n",
    "    newString = ''\n",
    "    newString = name[::-1]\n",
    "    if(newString == name):\n",
    "        return 1\n",
    "    else: return 0"
   ]
  },
  {
   "cell_type": "code",
   "execution_count": 16,
   "id": "d8909511-f501-445b-9bc8-25485cf543da",
   "metadata": {},
   "outputs": [
    {
     "data": {
      "text/plain": [
       "0"
      ]
     },
     "execution_count": 16,
     "metadata": {},
     "output_type": "execute_result"
    }
   ],
   "source": [
    "checkPalindrome(name)"
   ]
  },
  {
   "cell_type": "code",
   "execution_count": 17,
   "id": "d03c1d31-94ab-4b7e-981b-2e6739b82a53",
   "metadata": {},
   "outputs": [
    {
     "data": {
      "text/plain": [
       "1"
      ]
     },
     "execution_count": 17,
     "metadata": {},
     "output_type": "execute_result"
    }
   ],
   "source": [
    "name1 = 'aabbaa'\n",
    "checkPalindrome(name1)"
   ]
  },
  {
   "cell_type": "code",
   "execution_count": 18,
   "id": "4059e3e9-9352-4ad5-a6c7-1e07d6594dd8",
   "metadata": {},
   "outputs": [],
   "source": [
    "# 4.write a code to check if two given strings are anagrams of each other"
   ]
  },
  {
   "cell_type": "code",
   "execution_count": 19,
   "id": "9ac75a33-4023-4244-aaae-66b11bad3840",
   "metadata": {},
   "outputs": [],
   "source": [
    "def checkAnagram(str1,str2):\n",
    "    if(sorted(str1) == sorted(str2)):\n",
    "        return 1\n",
    "    else: return 0"
   ]
  },
  {
   "cell_type": "code",
   "execution_count": 20,
   "id": "30b1061b-fd53-4c9b-a6eb-175e3574fcf9",
   "metadata": {},
   "outputs": [
    {
     "data": {
      "text/plain": [
       "1"
      ]
     },
     "execution_count": 20,
     "metadata": {},
     "output_type": "execute_result"
    }
   ],
   "source": [
    "checkAnagram('nishan','nahsin')"
   ]
  },
  {
   "cell_type": "code",
   "execution_count": 21,
   "id": "b5ac3b91-1506-4aa4-ab63-ca73f6bb203a",
   "metadata": {},
   "outputs": [
    {
     "data": {
      "text/plain": [
       "0"
      ]
     },
     "execution_count": 21,
     "metadata": {},
     "output_type": "execute_result"
    }
   ],
   "source": [
    "checkAnagram('cow','wow')"
   ]
  },
  {
   "cell_type": "code",
   "execution_count": 4,
   "id": "c4f1c085-888d-46a7-858d-bc7c4ce0f721",
   "metadata": {},
   "outputs": [],
   "source": [
    "# 5.Write a code to find all occurrences of a given substring within another string"
   ]
  },
  {
   "cell_type": "code",
   "execution_count": 5,
   "id": "39ca0e6e-e7f9-4b2f-87e3-890578674fd3",
   "metadata": {},
   "outputs": [],
   "source": [
    "def find_all_occurrences(text, substring):\n",
    "    start = 0\n",
    "    occurrences = []\n",
    "    while start < len(text):\n",
    "        start = text.find(substring, start)\n",
    "        if start == -1:\n",
    "            break\n",
    "        occurrences.append(start)\n",
    "        start += 1\n",
    "    return occurrences"
   ]
  },
  {
   "cell_type": "code",
   "execution_count": 42,
   "id": "be6ce10b-8a44-4818-8623-c35411e5d1ba",
   "metadata": {},
   "outputs": [
    {
     "name": "stdout",
     "output_type": "stream",
     "text": [
      "[2]\n"
     ]
    }
   ],
   "source": [
    "text = \"I learn from pwskills.It is the best platform\"\n",
    "substring = \"learn\"\n",
    "print(find_all_occurrences(text, substring)) "
   ]
  },
  {
   "cell_type": "code",
   "execution_count": 9,
   "id": "9ba3d569-10ff-4bc5-92bc-af8143609d49",
   "metadata": {},
   "outputs": [],
   "source": [
    "# 6.Write a code to determine if a string has all unique characters"
   ]
  },
  {
   "cell_type": "code",
   "execution_count": 28,
   "id": "3ffad7f8-965d-4926-b750-e736fb074c32",
   "metadata": {},
   "outputs": [],
   "source": [
    "def checkUnique(name):\n",
    "    n = len(name)\n",
    "    for i in range(n):\n",
    "        for j in range(i + 1, n):\n",
    "            if name[i] == name[j]:\n",
    "                return False\n",
    "    return True"
   ]
  },
  {
   "cell_type": "code",
   "execution_count": 29,
   "id": "931ffc77-429a-40bb-a8b9-95d3f3d8ac0c",
   "metadata": {},
   "outputs": [
    {
     "data": {
      "text/plain": [
       "False"
      ]
     },
     "execution_count": 29,
     "metadata": {},
     "output_type": "execute_result"
    }
   ],
   "source": [
    "checkUnique('nishan')"
   ]
  },
  {
   "cell_type": "code",
   "execution_count": 30,
   "id": "9befc6d9-8281-4f15-90a2-a2bbfb764295",
   "metadata": {},
   "outputs": [
    {
     "data": {
      "text/plain": [
       "True"
      ]
     },
     "execution_count": 30,
     "metadata": {},
     "output_type": "execute_result"
    }
   ],
   "source": [
    "checkUnique('abcdefgh')"
   ]
  },
  {
   "cell_type": "code",
   "execution_count": 32,
   "id": "f8cf830b-e3de-42a5-8f18-eb1dd3e743db",
   "metadata": {},
   "outputs": [],
   "source": [
    "# 7.write a code to convert a given string to uppercase or lowercase"
   ]
  },
  {
   "cell_type": "code",
   "execution_count": 34,
   "id": "d4c34d19-ee82-4fcf-8045-ccdfdc93ee17",
   "metadata": {},
   "outputs": [],
   "source": [
    "def upperOrLowercse(s):\n",
    "    return s.upper(),s.lower()"
   ]
  },
  {
   "cell_type": "code",
   "execution_count": 35,
   "id": "5fc2861e-4f4a-42c5-8a51-4af32ab339d6",
   "metadata": {},
   "outputs": [
    {
     "data": {
      "text/plain": [
       "('NISHAN', 'nishan')"
      ]
     },
     "execution_count": 35,
     "metadata": {},
     "output_type": "execute_result"
    }
   ],
   "source": [
    "upperOrLowercse(name)"
   ]
  },
  {
   "cell_type": "code",
   "execution_count": 36,
   "id": "fdcef5fb-59a1-4c84-81ac-533d5728f59a",
   "metadata": {},
   "outputs": [],
   "source": [
    "# 8.write a code to count the number of words in a string"
   ]
  },
  {
   "cell_type": "code",
   "execution_count": 37,
   "id": "2417ec14-e6c2-4681-8402-dade0a6d60b9",
   "metadata": {},
   "outputs": [],
   "source": [
    "def countWord(s):\n",
    "    words = s.split()\n",
    "    return len(words)"
   ]
  },
  {
   "cell_type": "code",
   "execution_count": 41,
   "id": "3564b265-2fbd-4123-9667-dc97769588e7",
   "metadata": {},
   "outputs": [
    {
     "data": {
      "text/plain": [
       "9"
      ]
     },
     "execution_count": 41,
     "metadata": {},
     "output_type": "execute_result"
    }
   ],
   "source": [
    "text = \"I learn from pwskills. It is the best platform\"\n",
    "countWord(text)"
   ]
  },
  {
   "cell_type": "code",
   "execution_count": 43,
   "id": "2b4bfc68-b30f-45bb-9f8f-38a36b62ba18",
   "metadata": {},
   "outputs": [],
   "source": [
    "# 9.write a code to concatenate two strings without using the + operator"
   ]
  },
  {
   "cell_type": "code",
   "execution_count": 52,
   "id": "d78532d5-7914-4c85-96fd-69511c87cf31",
   "metadata": {},
   "outputs": [],
   "source": [
    "def joinString(s1,s2):\n",
    "    return ' '.join([s1,s2])"
   ]
  },
  {
   "cell_type": "code",
   "execution_count": 53,
   "id": "174f8caa-752c-4bc0-ad13-749e0e3b4e9d",
   "metadata": {},
   "outputs": [
    {
     "data": {
      "text/plain": [
       "'nishan das'"
      ]
     },
     "execution_count": 53,
     "metadata": {},
     "output_type": "execute_result"
    }
   ],
   "source": [
    "joinString('nishan','das')"
   ]
  },
  {
   "cell_type": "code",
   "execution_count": 2,
   "id": "72b5f7e6-254e-4ec5-9640-3218fd7810c2",
   "metadata": {},
   "outputs": [],
   "source": [
    "# 10.Write a code to remove all occurrences of a specific element from a list"
   ]
  },
  {
   "cell_type": "code",
   "execution_count": 12,
   "id": "355ec1b9-b905-41b8-963c-446a859b97c7",
   "metadata": {},
   "outputs": [],
   "source": [
    "def removeElement(l1,element):\n",
    "    return [i for i in l1 if i != element]"
   ]
  },
  {
   "cell_type": "code",
   "execution_count": 17,
   "id": "cf2c7af8-88c5-40a2-9a2f-042d08fe4071",
   "metadata": {},
   "outputs": [
    {
     "data": {
      "text/plain": [
       "[10, 12, 14, 9]"
      ]
     },
     "execution_count": 17,
     "metadata": {},
     "output_type": "execute_result"
    }
   ],
   "source": [
    "l1 = [10,12,14,20,9]\n",
    "removeElement(l1,20)"
   ]
  },
  {
   "cell_type": "code",
   "execution_count": 14,
   "id": "9d46954a-d951-4a07-8e3b-25f28b4241d9",
   "metadata": {},
   "outputs": [],
   "source": [
    "# 11.implement a code to find the second largest number in a given list of integers"
   ]
  },
  {
   "cell_type": "code",
   "execution_count": 24,
   "id": "eef68361-89a9-495d-97c8-f0b703fa0aa9",
   "metadata": {},
   "outputs": [],
   "source": [
    "def secLargest(l1):\n",
    "    l1.sort()\n",
    "    n = len(l1)\n",
    "    return l1[n-2:n-1]"
   ]
  },
  {
   "cell_type": "code",
   "execution_count": 25,
   "id": "580605d2-eb05-4465-afc7-73e6ec70e783",
   "metadata": {},
   "outputs": [
    {
     "data": {
      "text/plain": [
       "[14]"
      ]
     },
     "execution_count": 25,
     "metadata": {},
     "output_type": "execute_result"
    }
   ],
   "source": [
    "secLargest(l1)"
   ]
  },
  {
   "cell_type": "code",
   "execution_count": 26,
   "id": "55c9e09a-8f7d-4a06-9204-e5f6fd13d982",
   "metadata": {},
   "outputs": [],
   "source": [
    "l2 = [2,4,1,7,5,23,67,44,12]"
   ]
  },
  {
   "cell_type": "code",
   "execution_count": 27,
   "id": "4584fb51-71ae-43e1-948c-b9b4932ab3d6",
   "metadata": {},
   "outputs": [
    {
     "data": {
      "text/plain": [
       "[44]"
      ]
     },
     "execution_count": 27,
     "metadata": {},
     "output_type": "execute_result"
    }
   ],
   "source": [
    "secLargest(l2)"
   ]
  },
  {
   "cell_type": "code",
   "execution_count": 28,
   "id": "f2726a1a-e45f-4da1-aa30-df9bc2e6046e",
   "metadata": {},
   "outputs": [],
   "source": [
    "# 12.Create a code to count the occurrences of each element in a list and return a dictionary with elements as\n",
    "# keys and their counts as values"
   ]
  },
  {
   "cell_type": "code",
   "execution_count": 37,
   "id": "5e2ef29e-a6ce-4dcb-bfd0-020f163f9df4",
   "metadata": {},
   "outputs": [],
   "source": [
    "def convertToDict(lst):\n",
    "    unique_elements = []\n",
    "    counts = []\n",
    "\n",
    "    for element in lst:\n",
    "        if element in unique_elements:\n",
    "            index = unique_elements.index(element)\n",
    "            counts[index] += 1\n",
    "        else:\n",
    "            unique_elements.append(element)\n",
    "            counts.append(1)\n",
    "\n",
    "    return dict(zip(unique_elements, counts))"
   ]
  },
  {
   "cell_type": "code",
   "execution_count": 39,
   "id": "c957c1bb-b7ce-4f00-a1d2-99d2ffb4307f",
   "metadata": {},
   "outputs": [
    {
     "data": {
      "text/plain": [
       "{1: 5, 2: 3, 3: 9, 4: 3, 5: 2}"
      ]
     },
     "execution_count": 39,
     "metadata": {},
     "output_type": "execute_result"
    }
   ],
   "source": [
    "l3 = [1,1,1,1,1,2,2,2,3,3,3,3,3,3,3,3,3,4,4,4,5,5]\n",
    "convertToDict(l3)"
   ]
  },
  {
   "cell_type": "code",
   "execution_count": 43,
   "id": "562b1153-3df8-418a-87df-2a76093cdd60",
   "metadata": {},
   "outputs": [
    {
     "data": {
      "text/plain": [
       "{1: 2, 2: 3, 3: 4, 4: 5}"
      ]
     },
     "execution_count": 43,
     "metadata": {},
     "output_type": "execute_result"
    }
   ],
   "source": [
    "l4 = [1,1,2,2,2,3,3,3,3,4,4,4,4,4]\n",
    "convertToDict(l4)"
   ]
  },
  {
   "cell_type": "code",
   "execution_count": 44,
   "id": "2e9c0bf9-4151-4299-a071-dc99c2e0660f",
   "metadata": {},
   "outputs": [],
   "source": [
    "# 13.write a code to reverse a list in-place without using any built-in reverse functions"
   ]
  },
  {
   "cell_type": "code",
   "execution_count": 54,
   "id": "086ae371-30b7-4fb5-8b80-219a91d7d2c2",
   "metadata": {},
   "outputs": [],
   "source": [
    "def reverseList(lst):\n",
    "    l = 0\n",
    "    r = len(lst)-1\n",
    "    while(l<r):\n",
    "        lst[l],lst[r] = lst[r],lst[l]\n",
    "        l += 1\n",
    "        r -= 1\n",
    "    return lst"
   ]
  },
  {
   "cell_type": "code",
   "execution_count": 58,
   "id": "df758a09-21ef-4aeb-936f-bc5e2572071e",
   "metadata": {},
   "outputs": [
    {
     "data": {
      "text/plain": [
       "[5, 4, 3, 2, 1]"
      ]
     },
     "execution_count": 58,
     "metadata": {},
     "output_type": "execute_result"
    }
   ],
   "source": [
    "l5 = [1,2,3,4,5]\n",
    "reverseList(l5)"
   ]
  },
  {
   "cell_type": "code",
   "execution_count": 59,
   "id": "c270b145-3dfa-4127-8e36-12f243965ff2",
   "metadata": {},
   "outputs": [],
   "source": [
    "# 14.implement a code to find and remove duplicates from a list while preserving the original order of\n",
    "# elements"
   ]
  },
  {
   "cell_type": "code",
   "execution_count": 68,
   "id": "dcfd735e-4d8b-475d-9851-abe84d50a8d9",
   "metadata": {},
   "outputs": [],
   "source": [
    "def removeDouble(lst):\n",
    "    seen = set()\n",
    "    result = []\n",
    "    for element in lst:\n",
    "        if element not in seen:\n",
    "            result.append(element)\n",
    "            seen.add(element)\n",
    "    return result"
   ]
  },
  {
   "cell_type": "code",
   "execution_count": 69,
   "id": "8129c15a-07b5-456a-a1b5-2a05c1dec004",
   "metadata": {},
   "outputs": [
    {
     "data": {
      "text/plain": [
       "[5, 4, 3, 2, 1]"
      ]
     },
     "execution_count": 69,
     "metadata": {},
     "output_type": "execute_result"
    }
   ],
   "source": [
    "removeDouble(l3)"
   ]
  },
  {
   "cell_type": "code",
   "execution_count": 70,
   "id": "c11479b3-a59e-4022-9eb0-d6a6e2b0ee78",
   "metadata": {},
   "outputs": [],
   "source": [
    "# 15.Create a code to check if a given list is sorted (either in ascending or descending order) or not"
   ]
  },
  {
   "cell_type": "code",
   "execution_count": 96,
   "id": "e653a740-7567-43da-b309-0a87e556eb7a",
   "metadata": {},
   "outputs": [],
   "source": [
    "def checkSorted(lst):\n",
    "    ascending = True\n",
    "    descending = True\n",
    "    for i in range (1, len(lst)):\n",
    "        if(lst[i] > lst[i-1]): \n",
    "            descending = False \n",
    "        elif (lst[i] < lst[i-1]):\n",
    "            ascending = False\n",
    "    return ascending or descending"
   ]
  },
  {
   "cell_type": "code",
   "execution_count": 97,
   "id": "3767d555-3bd1-447d-bbd1-d08c40cb3a67",
   "metadata": {},
   "outputs": [
    {
     "data": {
      "text/plain": [
       "False"
      ]
     },
     "execution_count": 97,
     "metadata": {},
     "output_type": "execute_result"
    }
   ],
   "source": [
    "l7 = [1,2,5,4]\n",
    "checkSorted(l7)"
   ]
  },
  {
   "cell_type": "code",
   "execution_count": 100,
   "id": "38081b43-31d5-438d-b80a-aa6cd2a258fc",
   "metadata": {},
   "outputs": [
    {
     "data": {
      "text/plain": [
       "True"
      ]
     },
     "execution_count": 100,
     "metadata": {},
     "output_type": "execute_result"
    }
   ],
   "source": [
    "l8 = [4,3,2,1]\n",
    "checkSorted(l8)"
   ]
  },
  {
   "cell_type": "code",
   "execution_count": 101,
   "id": "b7c8d256-cf8d-4463-b51d-4f81dbbb889d",
   "metadata": {},
   "outputs": [
    {
     "data": {
      "text/plain": [
       "False"
      ]
     },
     "execution_count": 101,
     "metadata": {},
     "output_type": "execute_result"
    }
   ],
   "source": [
    "l9 = [1,2,3,4,10,9]\n",
    "checkSorted(l9)"
   ]
  },
  {
   "cell_type": "code",
   "execution_count": 102,
   "id": "52f19634-5d94-4601-889a-c8beb698e896",
   "metadata": {},
   "outputs": [],
   "source": [
    "# 16.Write a code to merge two sorted lists into a single sorted list"
   ]
  },
  {
   "cell_type": "code",
   "execution_count": 119,
   "id": "07dd05b9-35db-4174-8325-89851a7907d8",
   "metadata": {},
   "outputs": [],
   "source": [
    "def mergeTwoList(lst1,lst2):\n",
    "    lst1.sort()\n",
    "    lst2.sort()\n",
    "    new_lst = []\n",
    "    l1 = len(lst1)\n",
    "    l2 = len(lst2)\n",
    "    l3 = l1+l2\n",
    "    i = 0\n",
    "    j = 0\n",
    "    while i < l1 and j < l2:\n",
    "        if lst1[i] < lst2[j]:\n",
    "            new_lst.append(lst1[i])\n",
    "            i += 1\n",
    "        else:\n",
    "            new_lst.append(lst2[j])\n",
    "            j += 1\n",
    "    while i < l1:\n",
    "        new_lst.append(lst1[i])\n",
    "        i += 1\n",
    "\n",
    "    while j < l2:\n",
    "        new_lst.append(lst2[j])\n",
    "        j += 1\n",
    "    return new_lst"
   ]
  },
  {
   "cell_type": "code",
   "execution_count": 121,
   "id": "3b1af978-2096-44c0-adeb-771509a63d2a",
   "metadata": {},
   "outputs": [
    {
     "data": {
      "text/plain": [
       "[1, 2, 3, 4, 5, 6, 7, 8, 12, 30, 32]"
      ]
     },
     "execution_count": 121,
     "metadata": {},
     "output_type": "execute_result"
    }
   ],
   "source": [
    "l10 = [1,4,2,8,7,5]\n",
    "l11 = [12,32,30,3,6]\n",
    "mergeTwoList(l10,l11)"
   ]
  },
  {
   "cell_type": "code",
   "execution_count": 1,
   "id": "f99e55c7-6177-4582-be94-05326b34ffe2",
   "metadata": {},
   "outputs": [],
   "source": [
    "# 17.implement a code to find the intersection of two given lists"
   ]
  },
  {
   "cell_type": "code",
   "execution_count": 34,
   "id": "4db10f69-6ab8-4669-8120-59024843ec53",
   "metadata": {},
   "outputs": [],
   "source": [
    "def intersection(lst1,lst2):\n",
    "    newList = []\n",
    "    for i in lst1:\n",
    "        for j in lst2:\n",
    "            if(i == j):\n",
    "                newList.append(i)\n",
    "    return newList"
   ]
  },
  {
   "cell_type": "code",
   "execution_count": 35,
   "id": "f000fb5f-b193-4f4b-aea5-b50b06ca2c22",
   "metadata": {},
   "outputs": [
    {
     "data": {
      "text/plain": [
       "[4, 5, 5, 5]"
      ]
     },
     "execution_count": 35,
     "metadata": {},
     "output_type": "execute_result"
    }
   ],
   "source": [
    "l1 = [1,2,3,4,5,5,5]\n",
    "l2 = [4,5,6,7,8]\n",
    "intersection(l1,l2)"
   ]
  },
  {
   "cell_type": "code",
   "execution_count": 27,
   "id": "8c310609-7285-4d37-baa0-5424d8896969",
   "metadata": {},
   "outputs": [],
   "source": [
    "# 18.create a code to find the union of two lists without duplicates"
   ]
  },
  {
   "cell_type": "code",
   "execution_count": 39,
   "id": "c77f42a6-faae-42d4-9ee8-67ae80a6048c",
   "metadata": {},
   "outputs": [],
   "source": [
    "def union(lst1,lst2):\n",
    "    newList = []\n",
    "    for i in lst1:\n",
    "        newList.append(i)\n",
    "    for j in lst2:\n",
    "        newList.append(j)\n",
    "    return set(newList)"
   ]
  },
  {
   "cell_type": "code",
   "execution_count": 40,
   "id": "18541668-841c-42b6-821e-a13caf91f7c2",
   "metadata": {},
   "outputs": [
    {
     "data": {
      "text/plain": [
       "{1, 2, 3, 4, 5, 6, 7, 8}"
      ]
     },
     "execution_count": 40,
     "metadata": {},
     "output_type": "execute_result"
    }
   ],
   "source": [
    "union(l1,l2)"
   ]
  },
  {
   "cell_type": "code",
   "execution_count": 41,
   "id": "5be95e47-fd13-4410-bbac-7f74240be8b8",
   "metadata": {},
   "outputs": [
    {
     "data": {
      "text/plain": [
       "{1, 2, 3, 4, 5, 6, 7}"
      ]
     },
     "execution_count": 41,
     "metadata": {},
     "output_type": "execute_result"
    }
   ],
   "source": [
    "l3 = [1,2,3,4,4,4,4,5]\n",
    "l4 = [4,5,5,5,6,7]\n",
    "union(l3,l4)"
   ]
  },
  {
   "cell_type": "code",
   "execution_count": 42,
   "id": "69c29f83-e6f2-4a75-82f8-f0391edf9481",
   "metadata": {},
   "outputs": [],
   "source": [
    "# 19.write a code to shuffle a given list randomly without using any built-in shuffle functions"
   ]
  },
  {
   "cell_type": "code",
   "execution_count": 47,
   "id": "a224cdfc-1dad-42b1-8812-3deb0a12bb72",
   "metadata": {},
   "outputs": [],
   "source": [
    "import random\n",
    "def suffelList(lst):\n",
    "    n = len(lst)\n",
    "    for i in range(0,n-1,1):\n",
    "        j = random.randint(0,i)\n",
    "    lst[i], lst[j] = lst[j], lst[i]\n",
    "    return lst"
   ]
  },
  {
   "cell_type": "code",
   "execution_count": 48,
   "id": "5e073a81-e7c9-4a29-b47f-f182850b8609",
   "metadata": {},
   "outputs": [
    {
     "data": {
      "text/plain": [
       "[1, 2, 6, 4, 5, 3, 7]"
      ]
     },
     "execution_count": 48,
     "metadata": {},
     "output_type": "execute_result"
    }
   ],
   "source": [
    "l5 = [1,2,3,4,5,6,7]\n",
    "suffelList(l5)"
   ]
  },
  {
   "cell_type": "code",
   "execution_count": 49,
   "id": "d78f2033-4573-44e5-88b1-bfaef5f2545a",
   "metadata": {},
   "outputs": [],
   "source": [
    "# 20.write a code that takes two tuples as input and returns a new tuple containing elements that are\n",
    "# common to both input tuples"
   ]
  },
  {
   "cell_type": "code",
   "execution_count": 52,
   "id": "0a269534-aec1-4591-a54c-63905f75b2dc",
   "metadata": {},
   "outputs": [],
   "source": [
    "def intersectionTuple(tpl1,tpl2):\n",
    "    newTuple = []\n",
    "    for i in tpl1:\n",
    "        for j in tpl2:\n",
    "            if(i == j):\n",
    "                newTuple.append(i)\n",
    "    return newTuple"
   ]
  },
  {
   "cell_type": "code",
   "execution_count": 53,
   "id": "cef40e8f-cf6b-445b-ae3d-0614d06c4ecb",
   "metadata": {},
   "outputs": [
    {
     "data": {
      "text/plain": [
       "[4, 5]"
      ]
     },
     "execution_count": 53,
     "metadata": {},
     "output_type": "execute_result"
    }
   ],
   "source": [
    "tuple1 = (1, 2, 3, 4, 5)\n",
    "tuple2 = (4, 5, 6, 7, 8)\n",
    "intersectionTuple(tuple1,tuple2)"
   ]
  },
  {
   "cell_type": "code",
   "execution_count": 55,
   "id": "9d8f4b6a-ad6e-4e70-8dab-7bd1b608bbbf",
   "metadata": {},
   "outputs": [],
   "source": [
    "# 21.Write a code to concatenate two tuples. The function should take two tuples as input and return a new\n",
    "# tuple containing elements from both input tuples."
   ]
  },
  {
   "cell_type": "code",
   "execution_count": 57,
   "id": "ea291cbe-0247-4de3-b31a-413ec2488731",
   "metadata": {},
   "outputs": [],
   "source": [
    "def concatenate_two_tuples(t1,t2):\n",
    "    t3 = t1+t2\n",
    "    return t3"
   ]
  },
  {
   "cell_type": "code",
   "execution_count": 58,
   "id": "1032d71f-2be1-4c01-99e7-e018e3877db2",
   "metadata": {},
   "outputs": [
    {
     "data": {
      "text/plain": [
       "(1, 2, 3, 2, 3, 4)"
      ]
     },
     "execution_count": 58,
     "metadata": {},
     "output_type": "execute_result"
    }
   ],
   "source": [
    "t1 = (1,2,3)\n",
    "t2 = (2,3,4)\n",
    "concatenate_two_tuples(t1,t2)"
   ]
  },
  {
   "cell_type": "code",
   "execution_count": 60,
   "id": "459ebbc4-fd80-4aa7-96a7-ff8aa3f9f8c1",
   "metadata": {},
   "outputs": [],
   "source": [
    "# 22.Develop a code that prompts the user to input two sets of strings. Then, print the elements that are\n",
    "# present in the first set but not in the second set"
   ]
  },
  {
   "cell_type": "code",
   "execution_count": 67,
   "id": "3040e179-e741-476b-bf20-b52db3a23ece",
   "metadata": {},
   "outputs": [
    {
     "name": "stdin",
     "output_type": "stream",
     "text": [
      "Enter the first set of strings, separated by spaces:  nishan DAS\n",
      "Enter the second set of strings, separated by spaces:  is a good boy\n"
     ]
    },
    {
     "name": "stdout",
     "output_type": "stream",
     "text": [
      "Elements present in the first set but not in the second set: {'nishan', 'DAS'}\n"
     ]
    }
   ],
   "source": [
    "def getSet(prompt):\n",
    "    user_input = input(prompt)\n",
    "    return set(user_input.split())\n",
    "set1 = getSet(\"Enter the first set of strings, separated by spaces: \")\n",
    "set2 = getSet(\"Enter the second set of strings, separated by spaces: \")\n",
    "difference = set1 - set2\n",
    "print(\"Elements present in the first set but not in the second set:\", difference)"
   ]
  },
  {
   "cell_type": "code",
   "execution_count": 69,
   "id": "72fee8f2-d135-4ef4-8d82-926263312e8f",
   "metadata": {},
   "outputs": [],
   "source": [
    "# 23.Create a code that takes a tuple and two integers as input. The function should return a new tuple\n",
    "# containing elements from the original tuple within the specified range of indices"
   ]
  },
  {
   "cell_type": "code",
   "execution_count": 80,
   "id": "d8be1514-191d-4608-bb7d-2a454fde05fd",
   "metadata": {},
   "outputs": [],
   "source": [
    "def returnTuple(newTuple,i,j):\n",
    "    return newTuple[i:j]"
   ]
  },
  {
   "cell_type": "code",
   "execution_count": 82,
   "id": "a4945db3-f45a-46b6-9c6a-be1195f63633",
   "metadata": {},
   "outputs": [
    {
     "data": {
      "text/plain": [
       "(3, 4, 5, 6, 7, 8, 9)"
      ]
     },
     "execution_count": 82,
     "metadata": {},
     "output_type": "execute_result"
    }
   ],
   "source": [
    "t3 = (1,2,3,4,5,6,7,8,9,0)\n",
    "returnTuple(t3,2,9)"
   ]
  },
  {
   "cell_type": "code",
   "execution_count": 83,
   "id": "fed69abf-e30e-4960-b2cf-ca5dc152ae73",
   "metadata": {},
   "outputs": [],
   "source": [
    "# 24.Write a code that prompts the user to input two sets of characters. Then, print the union of these two sets"
   ]
  },
  {
   "cell_type": "code",
   "execution_count": 85,
   "id": "757ce528-6cc6-4cb6-bbd6-9e81afd4b134",
   "metadata": {},
   "outputs": [
    {
     "name": "stdin",
     "output_type": "stream",
     "text": [
      "Enter the first set of characters, separated by spaces:  a e i o u\n",
      "Enter the second set of characters, separated by spaces:  a b c d e\n"
     ]
    },
    {
     "name": "stdout",
     "output_type": "stream",
     "text": [
      "The union of the two sets is: {'e', 'i', 'c', 'd', 'u', 'a', 'b', 'o'}\n"
     ]
    }
   ],
   "source": [
    "def unionTwoSet(prompt):\n",
    "    user_input = input(prompt)\n",
    "    return set(user_input.split())\n",
    "set1 = unionTwoSet(\"Enter the first set of characters, separated by spaces: \")\n",
    "set2 = unionTwoSet(\"Enter the second set of characters, separated by spaces: \")\n",
    "union_set = set1.union(set2)\n",
    "print(\"The union of the two sets is:\", union_set)"
   ]
  },
  {
   "cell_type": "code",
   "execution_count": 1,
   "id": "9d27ff73-6112-4617-bb3b-2173f556de79",
   "metadata": {},
   "outputs": [],
   "source": [
    "# 25.Create a code that defines two sets of integers. Then, print the union, intersection, and difference of these\n",
    "# two sets"
   ]
  },
  {
   "cell_type": "code",
   "execution_count": 2,
   "id": "7bb27d3e-c0f2-4056-b61e-b9ca5d9c1c4a",
   "metadata": {},
   "outputs": [
    {
     "name": "stdout",
     "output_type": "stream",
     "text": [
      "Union of set1 and set2: {1, 2, 3, 4, 5, 6, 7, 8}\n",
      "Intersection of set1 and set2: {4, 5}\n",
      "Difference of set1 and set2 (set1 - set2): {1, 2, 3}\n",
      "Difference of set1 and set2 (set2 - set1): {8, 6, 7}\n"
     ]
    }
   ],
   "source": [
    "set1 = {1, 2, 3, 4, 5}\n",
    "set2 = {4, 5, 6, 7, 8}\n",
    "\n",
    "union_set = set1.union(set2)\n",
    "print(\"Union of set1 and set2:\", union_set)\n",
    "\n",
    "intersection_set = set1.intersection(set2)\n",
    "print(\"Intersection of set1 and set2:\", intersection_set)\n",
    "\n",
    "difference_set = set1.difference(set2)\n",
    "print(\"Difference of set1 and set2 (set1 - set2):\", difference_set)\n",
    "\n",
    "difference_set2 = set2.difference(set1)\n",
    "print(\"Difference of set1 and set2 (set2 - set1):\", difference_set2)"
   ]
  },
  {
   "cell_type": "code",
   "execution_count": 3,
   "id": "a88fa4d0-2a59-4be9-bdea-9ff0014b8c87",
   "metadata": {},
   "outputs": [],
   "source": [
    "# 26.Write a code that takes a tuple and an element as input. The function should return the count of\n",
    "# occurrences of the given element in the tuple"
   ]
  },
  {
   "cell_type": "code",
   "execution_count": 9,
   "id": "93c6ff24-26eb-470e-8743-68bfd71fd807",
   "metadata": {},
   "outputs": [],
   "source": [
    "def countOccurrences(t1,find):\n",
    "    return t1.count(find)"
   ]
  },
  {
   "cell_type": "code",
   "execution_count": 10,
   "id": "481f1dc3-ed90-4f65-9a89-8f9dcaa995d8",
   "metadata": {},
   "outputs": [
    {
     "data": {
      "text/plain": [
       "8"
      ]
     },
     "execution_count": 10,
     "metadata": {},
     "output_type": "execute_result"
    }
   ],
   "source": [
    "t1 = (1,2,2,2,2,2,2,2,2,3,4,4,5,5,5,5,5,5,5,)\n",
    "countOccurrences(t1,2)"
   ]
  },
  {
   "cell_type": "code",
   "execution_count": 11,
   "id": "f0c52db3-ef9d-4f2a-8606-825c434d0cd2",
   "metadata": {},
   "outputs": [
    {
     "data": {
      "text/plain": [
       "2"
      ]
     },
     "execution_count": 11,
     "metadata": {},
     "output_type": "execute_result"
    }
   ],
   "source": [
    "t1 = (1,2,2,2,2,2,2,2,2,3,4,4,5,5,5,5,5,5,5,)\n",
    "countOccurrences(t1,4)"
   ]
  },
  {
   "cell_type": "code",
   "execution_count": 12,
   "id": "2bf6584e-1d04-42d3-b290-78249e5bbb14",
   "metadata": {},
   "outputs": [],
   "source": [
    "# 27.evelop a code that prompts the user to input two sets of strings. Then, print the symmetric difference of\n",
    "# these two sets"
   ]
  },
  {
   "cell_type": "code",
   "execution_count": 13,
   "id": "03e2cf7e-c3d8-492b-9144-40e09ce4c91e",
   "metadata": {},
   "outputs": [
    {
     "name": "stdin",
     "output_type": "stream",
     "text": [
      "Enter the first set of strings (separated by spaces):  kohli rohit dhoni\n",
      "Enter the second set of strings (separated by spaces):  gg dhoni sky\n"
     ]
    },
    {
     "name": "stdout",
     "output_type": "stream",
     "text": [
      "Symmetric difference of set1 and set2: {'sky', 'kohli', 'rohit', 'gg'}\n"
     ]
    }
   ],
   "source": [
    "def getString(prompt):\n",
    "    user_input = input(prompt)\n",
    "    return set(user_input.split())\n",
    "\n",
    "set1 = getString(\"Enter the first set of strings (separated by spaces): \")\n",
    "set2 = getString(\"Enter the second set of strings (separated by spaces): \")\n",
    "\n",
    "symmetric_difference_set = set1.symmetric_difference(set2)\n",
    "print(\"Symmetric difference of set1 and set2:\", symmetric_difference_set)"
   ]
  },
  {
   "cell_type": "code",
   "execution_count": null,
   "id": "b85bd7fe-e3ce-4461-bd40-987cd1bb636d",
   "metadata": {},
   "outputs": [],
   "source": []
  }
 ],
 "metadata": {
  "kernelspec": {
   "display_name": "Python 3 (ipykernel)",
   "language": "python",
   "name": "python3"
  },
  "language_info": {
   "codemirror_mode": {
    "name": "ipython",
    "version": 3
   },
   "file_extension": ".py",
   "mimetype": "text/x-python",
   "name": "python",
   "nbconvert_exporter": "python",
   "pygments_lexer": "ipython3",
   "version": "3.10.8"
  }
 },
 "nbformat": 4,
 "nbformat_minor": 5
}
