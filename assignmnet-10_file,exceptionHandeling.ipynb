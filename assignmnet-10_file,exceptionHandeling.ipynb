{
 "cells": [
  {
   "cell_type": "markdown",
   "id": "0326cd3a-b24c-4c41-8275-c25600b6ceaf",
   "metadata": {},
   "source": [
    "__1. Discuss the scenarios where multithreading is preferable to multiprocessing and scenarios where\n",
    "multiprocessing is a better choice.__"
   ]
  },
  {
   "cell_type": "markdown",
   "id": "f2786aa5-fb3c-4922-937b-86f2a55b6aff",
   "metadata": {},
   "source": [
    "### Use Multithreading When:\n",
    "1. **I/O-bound tasks**: Waiting for disk or network I/O.\n",
    "2. **Shared memory**: Tasks need to share data easily.\n",
    "3. **Low overhead**: Threads are lighter than processes.\n",
    "4. **Concurrency, not parallelism**: Need responsiveness without heavy CPU usage.\n",
    "5. **Frequent communication**: Threads share memory without complex IPC.\n",
    "\n",
    "### Use Multiprocessing When:\n",
    "1. **CPU-bound tasks**: Heavy computations requiring parallelism.\n",
    "2. **Isolation & fault tolerance**: Processes are independent, ensuring safety from crashes.\n",
    "3. **Avoiding GIL (Python)**: Allows true parallel execution.\n",
    "4. **Security**: Processes are isolated, safer for sensitive tasks.\n",
    "5. **Large data processing**: Each process can handle separate data chunks.__"
   ]
  },
  {
   "cell_type": "markdown",
   "id": "7f95e5b2-8fcc-486a-8188-0a6821bbbd3f",
   "metadata": {},
   "source": [
    "__2. Describe what a process pool is and how it helps in managing multiple processes efficiently.__"
   ]
  },
  {
   "cell_type": "markdown",
   "id": "1e0ff050-9483-4fc6-bf85-089e16b8cff5",
   "metadata": {},
   "source": [
    "A **process pool** is a collection of worker processes that are pre-created and managed to execute tasks concurrently. It allows for efficient management of multiple processes by controlling the number of processes and distributing tasks to them dynamically.\n",
    "\n",
    "### Benefits of Using a Process Pool:\n",
    "1. **Resource Management**: It limits the number of active processes to avoid overloading system resources like CPU and memory.\n",
    "2. **Task Distribution**: Tasks are assigned to available processes in the pool, which helps in balancing the workload efficiently.\n",
    "3. **Reusability**: Processes in the pool are reused for different tasks, reducing the overhead of creating and destroying processes repeatedly.\n",
    "4. **Concurrency**: By running multiple tasks in parallel, a process pool helps improve performance, especially for CPU-bound tasks.\n",
    "\n",
    "Overall, a process pool simplifies managing multiple processes by controlling their lifecycle and ensuring efficient parallel execution."
   ]
  },
  {
   "cell_type": "markdown",
   "id": "60908b0c-03b2-4f5c-9514-9cf54580ebc5",
   "metadata": {},
   "source": [
    "__3. Explain what multiprocessing is and why it is used in Python programs.__"
   ]
  },
  {
   "cell_type": "markdown",
   "id": "79c07631-8168-4ad8-82bf-e0cff1e7c887",
   "metadata": {},
   "source": [
    "**Multiprocessing** in Python is a technique for running multiple processes in parallel, each with its own memory space. It is used to achieve **true parallelism**, especially for **CPU-bound tasks**, by bypassing Python’s Global Interpreter Lock (GIL). This allows Python programs to fully utilize multi-core processors, improving performance for heavy computations or tasks requiring isolation."
   ]
  },
  {
   "cell_type": "markdown",
   "id": "64212963-1e3c-4a41-b86a-12fbfada6f8a",
   "metadata": {},
   "source": [
    "__4. Write a Python program using multithreading where one thread adds numbers to a list, and another\n",
    "thread removes numbers from the list. Implement a mechanism to avoid race conditions using\n",
    "threading.Lock.__"
   ]
  },
  {
   "cell_type": "code",
   "execution_count": 1,
   "id": "6c5bf7bc-27ad-4532-8adc-4559531267ec",
   "metadata": {},
   "outputs": [
    {
     "name": "stdout",
     "output_type": "stream",
     "text": [
      "Added 95, List: [95]\n",
      "Removed 95, List: []\n",
      "Added 51, List: [51]\n",
      "Added 84, List: [51, 84]\n",
      "Added 32, List: [51, 84, 32]\n",
      "Added 64, List: [51, 84, 32, 64]\n",
      "Added 38, List: [51, 84, 32, 64, 38]\n",
      "Added 5, List: [51, 84, 32, 64, 38, 5]\n",
      "Added 5, List: [51, 84, 32, 64, 38, 5, 5]\n",
      "Added 75, List: [51, 84, 32, 64, 38, 5, 5, 75]\n",
      "Added 62, List: [51, 84, 32, 64, 38, 5, 5, 75, 62]\n",
      "Final list: [51, 84, 32, 64, 38, 5, 5, 75, 62]\n"
     ]
    }
   ],
   "source": [
    "import threading\n",
    "import time\n",
    "import random\n",
    "\n",
    "numbers = []\n",
    "lock = threading.Lock()\n",
    "\n",
    "def add_numbers():\n",
    "    for _ in range(10):\n",
    "        number = random.randint(1, 100)\n",
    "        lock.acquire()\n",
    "        try:\n",
    "            numbers.append(number)\n",
    "            print(f\"Added {number}, List: {numbers}\")\n",
    "        finally:\n",
    "            lock.release()\n",
    "        time.sleep(0.5)\n",
    "\n",
    "def remove_numbers():\n",
    "        lock.acquire()\n",
    "        try:\n",
    "            if numbers:\n",
    "                removed = numbers.pop(0)\n",
    "                print(f\"Removed {removed}, List: {numbers}\")\n",
    "        finally:\n",
    "            lock.release()\n",
    "\n",
    "adder_thread = threading.Thread(target=add_numbers)\n",
    "remover_thread = threading.Thread(target=remove_numbers)\n",
    "\n",
    "adder_thread.start()\n",
    "remover_thread.start()\n",
    "\n",
    "adder_thread.join()\n",
    "remover_thread.join()\n",
    "\n",
    "print(\"Final list:\", numbers)"
   ]
  },
  {
   "cell_type": "markdown",
   "id": "4871c1d3-8b7b-4395-947c-ab695c4e9743",
   "metadata": {},
   "source": [
    "__5. Describe the methods and tools available in Python for safely sharing data between threads and\n",
    "processes.__"
   ]
  },
  {
   "cell_type": "markdown",
   "id": "7d698b9b-ca33-4ff0-bba2-a2ff9b66d5ec",
   "metadata": {},
   "source": [
    "In Python, there are several methods and tools for safely sharing data between threads and processes\n",
    "### For Threads:\n",
    "1. **`threading.Lock`**: Ensures mutual exclusion, allowing only one thread to access a shared resource at a time.\n",
    "2. **`queue.Queue`**: A thread-safe queue for passing data between threads without the need for manual locks.\n",
    "\n",
    "### For Processes:\n",
    "1. **`multiprocessing.Queue`**: A process-safe FIFO queue for sharing data between processes.\n",
    "2. **`multiprocessing.Manager`**: Allows sharing complex data structures like lists and dictionaries between processes safely."
   ]
  },
  {
   "cell_type": "markdown",
   "id": "2132ff86-1fe2-4eaa-88bd-43d4c8dfc6f9",
   "metadata": {},
   "source": [
    "__6. Discuss why it’s crucial to handle exceptions in concurrent programs and the techniques available for\n",
    "doing so.__"
   ]
  },
  {
   "cell_type": "markdown",
   "id": "f4282e5d-e70e-42ca-aa19-1c5eb0182704",
   "metadata": {},
   "source": [
    "### Importance of Handling Exceptions in Concurrent Programs:\n",
    "\n",
    "1. **Stability**: Unhandled exceptions can cause threads or processes to terminate unexpectedly, leading to incomplete tasks, resource leaks, or corrupt data.\n",
    "2. **Debugging**: Without proper exception handling, errors may go unnoticed in concurrent environments, making it difficult to track down bugs.\n",
    "3. **Graceful Shutdown**: Handling exceptions ensures that system resources (like locks, files, or network connections) are properly released and the program can shut down cleanly.\n",
    "4. **Avoid Data Corruption**: In concurrent programs, improper exception handling can lead to race conditions, deadlocks, or inconsistencies in shared data."
   ]
  },
  {
   "cell_type": "markdown",
   "id": "c9e731eb-87b5-435a-99ba-37f2ed4e2c0b",
   "metadata": {},
   "source": [
    "### Techniques for Handling Exceptions in Concurrent Programs:\n",
    "\n",
    "1. **Try-Except Blocks**:\n",
    "   - Use `try-except` to catch and handle exceptions within critical sections of code, preventing crashes and ensuring controlled error handling.\n"
   ]
  },
  {
   "cell_type": "markdown",
   "id": "745caa97-9aeb-442d-a831-e4f938fca6ef",
   "metadata": {},
   "source": [
    "2. **Thread/Process Monitoring**:\n",
    "   - Use `join()` to wait for thread or process completion and monitor for failures. In case of a problem, you can take corrective actions or clean up resources.\n"
   ]
  },
  {
   "cell_type": "markdown",
   "id": "0c6745a7-033a-4ef0-8587-9bba6eb8ab92",
   "metadata": {},
   "source": [
    "__7. Create a program that uses a thread pool to calculate the factorial of numbers from 1 to 10 concurrently.\n",
    "Use concurrent.futures.ThreadPoolExecutor to manage the threads.__"
   ]
  },
  {
   "cell_type": "code",
   "execution_count": 4,
   "id": "0708cb22-ed87-4203-b6e5-f6de1335b63d",
   "metadata": {
    "collapsed": true,
    "jupyter": {
     "outputs_hidden": true
    },
    "tags": []
   },
   "outputs": [
    {
     "name": "stdout",
     "output_type": "stream",
     "text": [
      "Factorial of 1 is 1\n",
      "Factorial of 2 is 2\n",
      "Factorial of 3 is 6\n",
      "Factorial of 4 is 24\n",
      "Factorial of 5 is 120\n",
      "Factorial of 6 is 720\n",
      "Factorial of 7 is 5040\n",
      "Factorial of 8 is 40320\n",
      "Factorial of 9 is 362880\n",
      "Factorial of 10 is 3628800\n"
     ]
    }
   ],
   "source": [
    "import concurrent.futures\n",
    "import math\n",
    "\n",
    "def factorial(n):\n",
    "    return math.factorial(n)\n",
    "\n",
    "numbers = range(1, 11)\n",
    "\n",
    "with concurrent.futures.ThreadPoolExecutor() as executor:\n",
    "    results = list(executor.map(factorial, numbers))\n",
    "\n",
    "for number, result in zip(numbers, results):\n",
    "    print(f\"Factorial of {number} is {result}\")"
   ]
  },
  {
   "cell_type": "markdown",
   "id": "ea70d1cf-ab42-4bc6-bcf3-b243e2a6abfe",
   "metadata": {},
   "source": [
    "__8. Create a Python program that uses multiprocessing.Pool to compute the square of numbers from 1 to 10 in\n",
    "parallel. Measure the time taken to perform this computation using a pool of different sizes (e.g., 2, 4, 8\n",
    "processes).__"
   ]
  },
  {
   "cell_type": "code",
   "execution_count": 6,
   "id": "84e2c4c8-11e9-4bcc-8d11-dc5feab40b30",
   "metadata": {},
   "outputs": [
    {
     "name": "stdout",
     "output_type": "stream",
     "text": [
      "Pool Size: 2\n",
      "Results: [1, 4, 9, 16, 25, 36, 49, 64, 81, 100]\n",
      "Time Taken: 0.0253 seconds\n",
      "\n",
      "Pool Size: 4\n",
      "Results: [1, 4, 9, 16, 25, 36, 49, 64, 81, 100]\n",
      "Time Taken: 0.0410 seconds\n",
      "\n",
      "Pool Size: 8\n",
      "Results: [1, 4, 9, 16, 25, 36, 49, 64, 81, 100]\n",
      "Time Taken: 0.0698 seconds\n",
      "\n"
     ]
    }
   ],
   "source": [
    "import multiprocessing\n",
    "import time\n",
    "\n",
    "def square(n):\n",
    "    return n * n\n",
    "\n",
    "numbers = range(1, 11)\n",
    "\n",
    "def measure_time(pool_size):\n",
    "    start_time = time.time()\n",
    "    with multiprocessing.Pool(processes=pool_size) as pool:\n",
    "        results = pool.map(square, numbers)\n",
    "    end_time = time.time()\n",
    "    return results, end_time - start_time\n",
    "\n",
    "for pool_size in [2, 4, 8]:\n",
    "    results, duration = measure_time(pool_size)\n",
    "    print(f\"Pool Size: {pool_size}\")\n",
    "    print(f\"Results: {results}\")\n",
    "    print(f\"Time Taken: {duration:.4f} seconds\\n\")"
   ]
  },
  {
   "cell_type": "code",
   "execution_count": null,
   "id": "d99dc411-e1bd-4a86-b3ce-e82a98cf1ca9",
   "metadata": {},
   "outputs": [],
   "source": []
  }
 ],
 "metadata": {
  "kernelspec": {
   "display_name": "Python 3 (ipykernel)",
   "language": "python",
   "name": "python3"
  },
  "language_info": {
   "codemirror_mode": {
    "name": "ipython",
    "version": 3
   },
   "file_extension": ".py",
   "mimetype": "text/x-python",
   "name": "python",
   "nbconvert_exporter": "python",
   "pygments_lexer": "ipython3",
   "version": "3.10.8"
  }
 },
 "nbformat": 4,
 "nbformat_minor": 5
}
