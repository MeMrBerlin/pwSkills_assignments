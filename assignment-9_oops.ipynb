{
 "cells": [
  {
   "cell_type": "markdown",
   "id": "fcb10472-db7f-402f-a378-13a997afe72b",
   "metadata": {},
   "source": [
    "__1. What are the five key concepts of Object-Oriented Programming (OOP)?__"
   ]
  },
  {
   "cell_type": "markdown",
   "id": "6b3fef6a-6b8e-4abc-ae57-df6a824f673c",
   "metadata": {},
   "source": [
    "The five key concepts of Object-Oriented Programming (OOP) are:\n",
    "\n",
    "1. **Encapsulation**: Bundling data and methods that operate on the data within a class.\n",
    "2. **Abstraction**: Hiding complex details and exposing only the essentials.\n",
    "3. **Inheritance**: Deriving new classes from existing ones to reuse code.\n",
    "4. **Polymorphism**: Allowing methods to perform differently based on the object calling them.\n",
    "5. **Classes/Objects**: Classes are blueprints, and objects are instances created from these classes."
   ]
  },
  {
   "cell_type": "markdown",
   "id": "d8ca1ac2-60d8-4ee9-a6fd-582f874cdc38",
   "metadata": {},
   "source": [
    "__2. Write a Python class for a scars with attributes for make, moder, and year. Include a method to display\n",
    "the car's information.__"
   ]
  },
  {
   "cell_type": "code",
   "execution_count": 1,
   "id": "ab1755a4-df37-4c3a-8d04-4f9baebed35e",
   "metadata": {},
   "outputs": [],
   "source": [
    "class Car:\n",
    "    def __init__(self, make, model, year):\n",
    "        self.make = make\n",
    "        self.model = model\n",
    "        self.year = year\n",
    "\n",
    "    def display_info(self):\n",
    "        print(f\"Car Info: {self.year} {self.make} {self.model}\")"
   ]
  },
  {
   "cell_type": "code",
   "execution_count": 3,
   "id": "a8423c38-0fa3-4ad9-940b-88d9f66cd472",
   "metadata": {},
   "outputs": [
    {
     "name": "stdout",
     "output_type": "stream",
     "text": [
      "Car Info: 2028 Tata Ultroz\n"
     ]
    }
   ],
   "source": [
    "my_car = Car(\"Tata\", \"Ultroz\", 2028)\n",
    "my_car.display_info()"
   ]
  },
  {
   "cell_type": "markdown",
   "id": "56b82350-3ad2-4479-8932-c7b0d188663c",
   "metadata": {},
   "source": [
    "__3. Explain the difference between instance methods and class methods. Provide an example of each.__"
   ]
  },
  {
   "cell_type": "markdown",
   "id": "91853b27-21c8-4c55-83fa-f489f3de51cf",
   "metadata": {
    "tags": []
   },
   "source": [
    "__Difference Between Instance Methods and Class Methods:__\n",
    "\n",
    "1. **Instance Methods**:\n",
    "   - Belong to the instance (object) of the class.\n",
    "   - Can access and modify instance attributes.\n",
    "   - The first parameter is typically 'self', which refers to the object calling the method.\n",
    "   \n",
    "2. **Class Methods**:\n",
    "   - Belong to the class itself, not instances.\n",
    "   - Can access and modify class attributes (shared by all instances).\n",
    "   - The first parameter is 'cls', which refers to the class.\n",
    "   - Defined using the '@classmethod' decorator."
   ]
  },
  {
   "cell_type": "code",
   "execution_count": 6,
   "id": "1ffe28f3-a9cf-44ba-ba11-09ca4dbfe1e1",
   "metadata": {},
   "outputs": [],
   "source": [
    "class Car:\n",
    "    car_type = \"Vehicle\"\n",
    "    def __init__(self, make, model, year):\n",
    "        self.make = make    \n",
    "        self.model = model   \n",
    "        self.year = year      \n",
    "    def display_info(self):\n",
    "        print(f\"Car Info: {self.year} {self.make} {self.model}\")\n",
    "    @classmethod\n",
    "    def show_car_type(cls):\n",
    "        print(f\"Car Type: {cls.car_type}\")"
   ]
  },
  {
   "cell_type": "code",
   "execution_count": 7,
   "id": "53b48086-dc2f-4253-8df7-15f34cdb6ec5",
   "metadata": {},
   "outputs": [
    {
     "name": "stdout",
     "output_type": "stream",
     "text": [
      "Car Info: 2028 Tata Ultroz\n",
      "Car Type: Vehicle\n"
     ]
    }
   ],
   "source": [
    "my_car = Car(\"Tata\", \"Ultroz\", 2028)\n",
    "my_car.display_info()  \n",
    "Car.show_car_type()  "
   ]
  },
  {
   "cell_type": "markdown",
   "id": "c209003e-9428-446f-8bf8-cd0bc43fadee",
   "metadata": {},
   "source": [
    "__4. How does Python implement method overloading? Give an example.__"
   ]
  },
  {
   "cell_type": "markdown",
   "id": "bb4eab1b-9095-424a-9f25-dfcdcb574bc4",
   "metadata": {},
   "source": [
    "_Method Overloading in Python__\n",
    "\n",
    "Python does **not support traditional method overloading** (like other languages such as Java or C++). Instead, it handles method overloading by allowing default or variable arguments in a single method. Python allows you to define a method that can accept different numbers of arguments using techniques like:\n",
    "\n",
    "1. **Default arguments**.\n",
    "2. **Variable-length arguments** (*args, **kwargs).\n"
   ]
  },
  {
   "cell_type": "code",
   "execution_count": 8,
   "id": "8477a19b-3c1d-4210-9319-862e0fb3e479",
   "metadata": {},
   "outputs": [
    {
     "name": "stdout",
     "output_type": "stream",
     "text": [
      "5\n",
      "15\n",
      "30\n"
     ]
    }
   ],
   "source": [
    "class Calculator:\n",
    "    def add(self, a, b=0, c=0):\n",
    "        return a + b + c\n",
    "calc = Calculator()\n",
    "\n",
    "print(calc.add(5))          \n",
    "print(calc.add(5, 10))      \n",
    "print(calc.add(5, 10, 15))"
   ]
  },
  {
   "cell_type": "markdown",
   "id": "ee8b2f26-7c2e-4ddd-a2b5-16cb400fdf59",
   "metadata": {},
   "source": [
    "__5. What are the three types of access modifiers in Python? How are they denoted?__"
   ]
  },
  {
   "cell_type": "markdown",
   "id": "6b688109-21cc-45d3-a7fa-62c28cad1252",
   "metadata": {},
   "source": [
    "In Python, there are three types of access modifiers used to control the visibility of class attributes and methods. These are:\n",
    "\n",
    "1. **Public**:\n",
    "   - Accessible from anywhere (inside or outside the class).\n",
    "   - Denoted by simply using the attribute or method name.\n",
    "   - Example: self.name\n",
    "\n",
    "2. **Protected**:\n",
    "   - Intended for use within the class and its subclasses but not outside.\n",
    "   - Denoted by a single underscore \"_\" before the attribute or method name.\n",
    "   - Example: self._age\n",
    "\n",
    "3. **Private**:\n",
    "   - Restricted to the class in which it is defined (not accessible outside the class).\n",
    "   - Denoted by two underscores \"__\" before the attribute or method name.\n",
    "   - Example: self.__salary"
   ]
  },
  {
   "cell_type": "code",
   "execution_count": 9,
   "id": "6d862c89-522f-4bab-9b36-018f5b30598e",
   "metadata": {},
   "outputs": [
    {
     "name": "stdout",
     "output_type": "stream",
     "text": [
      "Nishan\n",
      "21\n",
      "50000\n"
     ]
    }
   ],
   "source": [
    "class Employee:\n",
    "    def __init__(self, name, age, salary):\n",
    "        self.name = name         # Public\n",
    "        self._age = age          # Protected\n",
    "        self.__salary = salary   # Private\n",
    "\n",
    "    def display_info(self):\n",
    "        print(f\"Name: {self.name}, Age: {self._age}, Salary: {self.__salary}\")\n",
    "\n",
    "emp = Employee(\"Nishan\", 21, 50000)\n",
    "print(emp.name)    \n",
    "print(emp._age)      \n",
    "print(emp._Employee__salary)  "
   ]
  },
  {
   "cell_type": "markdown",
   "id": "a9e17ed2-ae14-4393-a9ec-4af799ec68f0",
   "metadata": {},
   "source": [
    "__6. Describe the five types of inheritance in Python. Provide a simple example of multiple inheritance.__"
   ]
  },
  {
   "cell_type": "markdown",
   "id": "e0372351-654e-4ef4-91a9-a483af5d4ef8",
   "metadata": {},
   "source": [
    "__Five Types of Inheritance in Python:__\n",
    "\n",
    "1. **Single Inheritance**:\n",
    "   - A class inherits from only one parent class.\n",
    "   - Example: class B(A): (B inherits from A)\n",
    "\n",
    "2. **Multiple Inheritance**:\n",
    "   - A class inherits from more than one parent class.\n",
    "   - Example: class C(A, B): (C inherits from both A and B)\n",
    "\n",
    "3. **Multilevel Inheritance**:\n",
    "   - A class is derived from a class, which is also derived from another class (like a chain).\n",
    "   - Example: class C(B): and class B(A): (C inherits from B, B inherits from A)\n",
    "\n",
    "4. **Hierarchical Inheritance**:\n",
    "   - Multiple classes inherit from the same parent class.\n",
    "   - Example: class B(A): and class C(A): (B and C inherit from A)\n",
    "\n",
    "5. **Hybrid Inheritance**:\n",
    "   - A combination of two or more types of inheritance (e.g., a mix of multiple and multilevel inheritance).\n",
    "   - It can be more complex and involves various inheritance types."
   ]
  },
  {
   "cell_type": "code",
   "execution_count": 10,
   "id": "c3cbb89d-e64f-4e42-a0ef-cc49036d947a",
   "metadata": {},
   "outputs": [
    {
     "name": "stdout",
     "output_type": "stream",
     "text": [
      "Engine started\n",
      "Playing music\n",
      "Car is driving\n"
     ]
    }
   ],
   "source": [
    "# Parent class 1\n",
    "class Engine:\n",
    "    def start(self):\n",
    "        print(\"Engine started\")\n",
    "\n",
    "# Parent class 2\n",
    "class Radio:\n",
    "    def play_music(self):\n",
    "        print(\"Playing music\")\n",
    "\n",
    "# Child class inheriting from both Engine and Radio\n",
    "class Car(Engine, Radio):\n",
    "    def drive(self):\n",
    "        print(\"Car is driving\")\n",
    "\n",
    "my_car = Car()\n",
    "my_car.start()        \n",
    "my_car.play_music()  \n",
    "my_car.drive()        "
   ]
  },
  {
   "cell_type": "markdown",
   "id": "ecfb3537-4fdd-4872-a134-d89b45560852",
   "metadata": {},
   "source": [
    "__7. What is the Method Resolution Order (MRO) in Python? How can you retrieve it programmatically?__"
   ]
  },
  {
   "cell_type": "markdown",
   "id": "dcb1a45e-6d9d-4178-b343-bb1b6560dc51",
   "metadata": {},
   "source": [
    "__Method Resolution Order (MRO) in Python__\n",
    "\n",
    "The **Method Resolution Order (MRO)** in Python is the sequence in which Python looks for a method or attribute in a hierarchy of classes. This is crucial in the context of multiple inheritance, where a class inherits from more than one parent class. The MRO ensures that each class is only visited once and that the inheritance hierarchy is maintained correctly.\n",
    "\n",
    "Python uses the **C3 linearization algorithm** to determine the MRO. This algorithm provides a consistent and predictable order that respects the order of base classes and avoids redundant searches.\n",
    "\n",
    "### Retrieving MRO Programmatically\n",
    "\n",
    "You can retrieve the MRO of a class in Python using:\n",
    "\n",
    "1. **The \"__mro__\" attribute**: This returns a tuple of classes in the MRO.\n",
    "2. **The \"mro()\" method**: This returns a list of classes in the MRO."
   ]
  },
  {
   "cell_type": "code",
   "execution_count": 11,
   "id": "77c5e229-55cf-4dee-b72a-a3aa05574e3b",
   "metadata": {},
   "outputs": [
    {
     "name": "stdout",
     "output_type": "stream",
     "text": [
      "MRO using __mro__:\n",
      "(<class '__main__.D'>, <class '__main__.B'>, <class '__main__.C'>, <class '__main__.A'>, <class 'object'>)\n",
      "\n",
      "MRO using mro() method:\n",
      "[<class '__main__.D'>, <class '__main__.B'>, <class '__main__.C'>, <class '__main__.A'>, <class 'object'>]\n"
     ]
    }
   ],
   "source": [
    "# Parent classes\n",
    "class A:\n",
    "    def method(self):\n",
    "        print(\"Method in A\")\n",
    "\n",
    "class B(A):\n",
    "    def method(self):\n",
    "        print(\"Method in B\")\n",
    "\n",
    "class C(A):\n",
    "    def method(self):\n",
    "        print(\"Method in C\")\n",
    "\n",
    "# Child class with multiple inheritance\n",
    "class D(B, C):\n",
    "    pass\n",
    "\n",
    "# Retrieve MRO using __mro__ attribute\n",
    "print(\"MRO using __mro__:\")\n",
    "print(D.__mro__)\n",
    "\n",
    "# Retrieve MRO using mro() method\n",
    "print(\"\\nMRO using mro() method:\")\n",
    "print(D.mro())"
   ]
  },
  {
   "cell_type": "markdown",
   "id": "e7925134-197c-489c-b445-05b3d82c54b1",
   "metadata": {},
   "source": [
    "__8. Create an abstract base class Shape with an abstract method Then create two subclasses\n",
    "-Circles and RectangIes that implement the method.__"
   ]
  },
  {
   "cell_type": "code",
   "execution_count": 12,
   "id": "3004c805-4043-4613-9313-3342acb518b7",
   "metadata": {},
   "outputs": [],
   "source": [
    "from abc import ABC, abstractmethod\n",
    "\n",
    "# Abstract base class\n",
    "class Shape(ABC):\n",
    "    @abstractmethod\n",
    "    def area(self):\n",
    "        \"\"\"Method to calculate the area of the shape\"\"\"\n",
    "        pass\n",
    "\n",
    "# Subclass Circle that implements the abstract method\n",
    "class Circle(Shape):\n",
    "    def __init__(self, radius):\n",
    "        self.radius = radius\n",
    "\n",
    "    def area(self):\n",
    "        return 3.1416 * (self.radius ** 2)\n",
    "\n",
    "# Subclass Rectangle that implements the abstract method\n",
    "class Rectangle(Shape):\n",
    "    def __init__(self, width, height):\n",
    "        self.width = width\n",
    "        self.height = height\n",
    "\n",
    "    def area(self):\n",
    "        return self.width * self.height"
   ]
  },
  {
   "cell_type": "code",
   "execution_count": 13,
   "id": "13f072e3-e484-40fd-ae54-c968db1524e5",
   "metadata": {},
   "outputs": [
    {
     "name": "stdout",
     "output_type": "stream",
     "text": [
      "Area of the circle: 78.53999999999999\n",
      "Area of the rectangle: 24\n"
     ]
    }
   ],
   "source": [
    "circle = Circle(5)\n",
    "print(f\"Area of the circle: {circle.area()}\")\n",
    "\n",
    "rectangle = Rectangle(4, 6)\n",
    "print(f\"Area of the rectangle: {rectangle.area()}\")"
   ]
  },
  {
   "cell_type": "markdown",
   "id": "93057142-074f-4821-ba19-4f73f71ae3fd",
   "metadata": {},
   "source": [
    "__9. Demonstrate polymorphism by creating a function that can work with different shape objects to calculate\n",
    "and print their areas.__"
   ]
  },
  {
   "cell_type": "code",
   "execution_count": 14,
   "id": "a7d3420a-3c56-498b-af30-fdd4ff821a81",
   "metadata": {},
   "outputs": [],
   "source": [
    "from abc import ABC, abstractmethod\n",
    "\n",
    "# Abstract base class\n",
    "class Shape(ABC):\n",
    "    @abstractmethod\n",
    "    def area(self):\n",
    "        pass\n",
    "\n",
    "# Subclass Circle\n",
    "class Circle(Shape):\n",
    "    def __init__(self, radius):\n",
    "        self.radius = radius\n",
    "\n",
    "    def area(self):\n",
    "        return 3.1416 * (self.radius ** 2)\n",
    "\n",
    "# Subclass Rectangle\n",
    "class Rectangle(Shape):\n",
    "    def __init__(self, width, height):\n",
    "        self.width = width\n",
    "        self.height = height\n",
    "\n",
    "    def area(self):\n",
    "        return self.width * self.height\n",
    "\n",
    "# Subclass Triangle\n",
    "class Triangle(Shape):\n",
    "    def __init__(self, base, height):\n",
    "        self.base = base\n",
    "        self.height = height\n",
    "\n",
    "    def area(self):\n",
    "        return 0.5 * self.base * self.height\n",
    "\n",
    "# Function demonstrating polymorphism\n",
    "def display_area(shapes):\n",
    "    for shape in shapes:\n",
    "        print(f\"The area of the {shape.__class__.__name__.lower()} is: {shape.area()}\")"
   ]
  },
  {
   "cell_type": "code",
   "execution_count": 16,
   "id": "3d27421c-fe7d-4622-ba36-597578ab89e3",
   "metadata": {},
   "outputs": [
    {
     "name": "stdout",
     "output_type": "stream",
     "text": [
      "The area of the circle is: 314.15999999999997\n",
      "The area of the rectangle is: 364\n",
      "The area of the triangle is: 10.5\n"
     ]
    }
   ],
   "source": [
    "# Example usage\n",
    "shapes = [Circle(10), Rectangle(14, 26), Triangle(3, 7)]\n",
    "\n",
    "# Polymorphism: Same function works for different shape objects\n",
    "display_area(shapes)"
   ]
  },
  {
   "cell_type": "markdown",
   "id": "97062477-08fb-447d-975f-e9f23f7a61e5",
   "metadata": {},
   "source": [
    "__10. Implement encapsulation in a 'BankAccount' class with private attributes for 'balance' and\n",
    "-account _ numbers. Include methods for deposit, withdrawal, and balance inquiry.__"
   ]
  },
  {
   "cell_type": "code",
   "execution_count": 17,
   "id": "7ddf2e8e-18c5-405f-a1e0-6ada55626259",
   "metadata": {},
   "outputs": [],
   "source": [
    "class BankAccount:\n",
    "    def __init__(self, account_number, initial_balance=0):\n",
    "        self.__account_number = account_number  # Private attribute\n",
    "        self.__balance = initial_balance        # Private attribute\n",
    "\n",
    "    def deposit(self, amount):\n",
    "        if amount > 0:\n",
    "            self.__balance += amount\n",
    "            print(f\"Deposited ${amount}. New balance is ${self.__balance}.\")\n",
    "        else:\n",
    "            print(\"Deposit amount must be positive.\")\n",
    "\n",
    "    def withdraw(self, amount):\n",
    "        if 0 < amount <= self.__balance:\n",
    "            self.__balance -= amount\n",
    "            print(f\"Withdrew ${amount}. New balance is ${self.__balance}.\")\n",
    "        elif amount > self.__balance:\n",
    "            print(\"Insufficient funds.\")\n",
    "        else:\n",
    "            print(\"Withdrawal amount must be positive.\")\n",
    "\n",
    "    def get_balance(self):\n",
    "        return self.__balance\n",
    "\n",
    "    def get_account_number(self):\n",
    "        return self.__account_number"
   ]
  },
  {
   "cell_type": "code",
   "execution_count": 19,
   "id": "435322e1-9cc1-4a94-9ce5-ab2af4f20cb5",
   "metadata": {},
   "outputs": [
    {
     "name": "stdout",
     "output_type": "stream",
     "text": [
      "Account Number: PNB-10012542\n",
      "Initial Balance: $1000\n",
      "Deposited $500. New balance is $1500.\n",
      "Withdrew $500. New balance is $1000.\n",
      "Final Balance: $1000\n"
     ]
    }
   ],
   "source": [
    "account = BankAccount(\"PNB-10012542\", 1000)\n",
    "print(f\"Account Number: {account.get_account_number()}\")\n",
    "print(f\"Initial Balance: ${account.get_balance()}\")\n",
    "\n",
    "account.deposit(500)\n",
    "account.withdraw(500)\n",
    "print(f\"Final Balance: ${account.get_balance()}\")"
   ]
  },
  {
   "cell_type": "markdown",
   "id": "fee306ab-5d42-4b97-8ac5-4eb4281f4a76",
   "metadata": {},
   "source": [
    "__11. Write a class that overrides the `__str__`and`__add__` magic methods. What will these methods allow you to do?__"
   ]
  },
  {
   "cell_type": "code",
   "execution_count": 21,
   "id": "892e5ae1-843b-42e2-b3de-1475d98fc152",
   "metadata": {},
   "outputs": [],
   "source": [
    "class Vector:\n",
    "    def __init__(self, x, y):\n",
    "        self.x = x\n",
    "        self.y = y\n",
    "\n",
    "    def __str__(self):\n",
    "        return f\"Vector({self.x}, {self.y})\"\n",
    "\n",
    "    def __add__(self, other):\n",
    "        if isinstance(other, Vector):\n",
    "            return Vector(self.x + other.x, self.y + other.y)\n",
    "        return NotImplemented"
   ]
  },
  {
   "cell_type": "code",
   "execution_count": 22,
   "id": "1c384d60-49d0-49f3-acb9-47091c407457",
   "metadata": {},
   "outputs": [
    {
     "name": "stdout",
     "output_type": "stream",
     "text": [
      "Vector(2, 3)\n",
      "Vector(6, 8)\n"
     ]
    }
   ],
   "source": [
    "v1 = Vector(2, 3)\n",
    "v2 = Vector(4, 5)\n",
    "\n",
    "# Using the __str__ method\n",
    "print(v1)  \n",
    "\n",
    "# Using the __add__ method\n",
    "v3 = v1 + v2\n",
    "print(v3) "
   ]
  },
  {
   "cell_type": "markdown",
   "id": "0af1e3ae-a2ef-44d2-8c59-59abf4cdd722",
   "metadata": {},
   "source": [
    "__12. Create a decorator that measures and prints the execution time of a function.__"
   ]
  },
  {
   "cell_type": "code",
   "execution_count": 24,
   "id": "4d944d34-ec5b-4697-b73f-444d16b0b857",
   "metadata": {},
   "outputs": [],
   "source": [
    "import time\n",
    "\n",
    "def executionTimeDecorator(func):\n",
    "    def wrapper(*args, **kwargs):\n",
    "        start_time = time.time() \n",
    "        result = func(*args, **kwargs)  \n",
    "        end_time = time.time()  \n",
    "        execution_time = end_time - start_time \n",
    "        print(f\"Execution time: {execution_time:.4f} seconds\")\n",
    "        return result\n",
    "    return wrapper\n",
    "\n",
    "# Example function to test the decorator\n",
    "@executionTimeDecorator\n",
    "def example_function(n):\n",
    "    total = 0\n",
    "    for i in range(n):\n",
    "        total += i\n",
    "    return total"
   ]
  },
  {
   "cell_type": "code",
   "execution_count": 25,
   "id": "32f66095-17d0-4cce-8cf4-2cf0e1729054",
   "metadata": {},
   "outputs": [
    {
     "name": "stdout",
     "output_type": "stream",
     "text": [
      "Execution time: 0.0668 seconds\n",
      "Result: 499999500000\n"
     ]
    }
   ],
   "source": [
    "result = example_function(1000000)\n",
    "print(f\"Result: {result}\")"
   ]
  },
  {
   "cell_type": "markdown",
   "id": "391f8db4-2698-4731-a1bd-263041f4102b",
   "metadata": {},
   "source": [
    "__13. Explain the concept of the Diamond Problem in multiple inheritance. How does Python resolve it?__"
   ]
  },
  {
   "cell_type": "markdown",
   "id": "3a782d56-7f9f-40e3-af82-9e0144d5b1ba",
   "metadata": {},
   "source": [
    "The Diamond Problem occurs in multiple inheritance when a class inherits from two or more classes that have a common ancestor, leading to ambiguity regarding which parent class's method should be called. The problem is called \"diamond\" because the inheritance structure forms a diamond shape."
   ]
  },
  {
   "cell_type": "code",
   "execution_count": 26,
   "id": "dd1bc00f-b07a-4fc5-8fc8-df34f0101efe",
   "metadata": {},
   "outputs": [
    {
     "name": "stdout",
     "output_type": "stream",
     "text": [
      "Method in B\n"
     ]
    }
   ],
   "source": [
    "class A:\n",
    "    def method(self):\n",
    "        print(\"Method in A\")\n",
    "\n",
    "class B(A):\n",
    "    def method(self):\n",
    "        print(\"Method in B\")\n",
    "\n",
    "class C(A):\n",
    "    def method(self):\n",
    "        print(\"Method in C\")\n",
    "\n",
    "class D(B, C): \n",
    "    pass\n",
    "\n",
    "d = D()\n",
    "d.method() "
   ]
  },
  {
   "cell_type": "markdown",
   "id": "de319f50-2aae-4dcf-90af-29c6140befd9",
   "metadata": {},
   "source": [
    "__14. Write a class method that keeps track of the number of instances created from a class.__"
   ]
  },
  {
   "cell_type": "code",
   "execution_count": 32,
   "id": "e975874c-edc6-45fd-be24-57389e72cad5",
   "metadata": {},
   "outputs": [],
   "source": [
    "class InstanceTracker:\n",
    "    instance_count = 0 \n",
    "\n",
    "    def __init__(self):\n",
    "        InstanceTracker.instance_count += 1 \n",
    "\n",
    "    @classmethod\n",
    "    def get_instance_count(cls):\n",
    "        \"\"\"Class method to get the current instance count\"\"\"\n",
    "        return cls.instance_count"
   ]
  },
  {
   "cell_type": "code",
   "execution_count": 33,
   "id": "cdccd7ba-5f01-413f-aa92-f91f2e48ba9d",
   "metadata": {},
   "outputs": [
    {
     "name": "stdout",
     "output_type": "stream",
     "text": [
      "Number of instances created: 5\n"
     ]
    }
   ],
   "source": [
    "obj1 = InstanceTracker()\n",
    "obj2 = InstanceTracker()\n",
    "obj3 = InstanceTracker()\n",
    "obj4 = InstanceTracker()\n",
    "obj5 = InstanceTracker()\n",
    "print(f\"Number of instances created: {InstanceTracker.get_instance_count()}\")"
   ]
  },
  {
   "cell_type": "markdown",
   "id": "dc7ea219-7785-4455-a3a5-c98ca18c04de",
   "metadata": {},
   "source": [
    "__15. Implement a static method in a class that checks if a given year is a leap year.__"
   ]
  },
  {
   "cell_type": "code",
   "execution_count": 36,
   "id": "3bf18b67-dc2e-4eda-a13c-d66c52b92fe5",
   "metadata": {},
   "outputs": [],
   "source": [
    "class YearUtils:\n",
    "    @staticmethod\n",
    "    def leapYear(year):\n",
    "        \"\"\"Static method to check if a year is a leap year\"\"\"\n",
    "        if (year % 4 == 0 and year % 100 != 0) or (year % 400 == 0):\n",
    "            return True\n",
    "        else:\n",
    "            return False"
   ]
  },
  {
   "cell_type": "code",
   "execution_count": 37,
   "id": "d583f6b1-6234-4573-8263-afeb61b3e7ae",
   "metadata": {},
   "outputs": [
    {
     "name": "stdout",
     "output_type": "stream",
     "text": [
      "True\n",
      "False\n",
      "True\n",
      "True\n"
     ]
    }
   ],
   "source": [
    "print(YearUtils.leapYear(2024))  \n",
    "print(YearUtils.leapYear(1900))  \n",
    "print(YearUtils.leapYear(2000))  \n",
    "print(YearUtils.leapYear(2020))  "
   ]
  },
  {
   "cell_type": "code",
   "execution_count": null,
   "id": "4fbb9412-cda6-4666-86b8-9b93d0a25813",
   "metadata": {},
   "outputs": [],
   "source": []
  }
 ],
 "metadata": {
  "kernelspec": {
   "display_name": "Python 3 (ipykernel)",
   "language": "python",
   "name": "python3"
  },
  "language_info": {
   "codemirror_mode": {
    "name": "ipython",
    "version": 3
   },
   "file_extension": ".py",
   "mimetype": "text/x-python",
   "name": "python",
   "nbconvert_exporter": "python",
   "pygments_lexer": "ipython3",
   "version": "3.10.8"
  }
 },
 "nbformat": 4,
 "nbformat_minor": 5
}
