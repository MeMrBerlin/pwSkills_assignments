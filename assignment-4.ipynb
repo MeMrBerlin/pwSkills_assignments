{
 "cells": [
  {
   "cell_type": "markdown",
   "id": "1810f6aa-0906-4138-8961-a91fa7902a75",
   "metadata": {},
   "source": [
    "__1. What is the difference between a function and a method in Python?__"
   ]
  },
  {
   "cell_type": "markdown",
   "id": "510c1c81-40f5-4416-a0a0-4f5742f01e06",
   "metadata": {},
   "source": [
    "ans: Functions are independent blocks of code defined using the def keyword and can be called directly by their name. Methods are functions defined within a class and called on instances of that class, with the first parameter typically being self."
   ]
  },
  {
   "cell_type": "code",
   "execution_count": 6,
   "id": "73b21af6-0668-45a3-890b-d419d6046fb5",
   "metadata": {},
   "outputs": [],
   "source": [
    "# example of function:\n",
    "def power(x):\n",
    "    return x ** 2"
   ]
  },
  {
   "cell_type": "code",
   "execution_count": 7,
   "id": "22e53329-08bc-4fd3-b4b2-16307e43f6d0",
   "metadata": {},
   "outputs": [
    {
     "data": {
      "text/plain": [
       "16"
      ]
     },
     "execution_count": 7,
     "metadata": {},
     "output_type": "execute_result"
    }
   ],
   "source": [
    "power(4)"
   ]
  },
  {
   "cell_type": "code",
   "execution_count": 8,
   "id": "467fb3c8-6bb4-454b-b4ea-a27a0e6ee7a2",
   "metadata": {},
   "outputs": [],
   "source": [
    "# example of method\n",
    "class Power:\n",
    "    def find_power(self, x):\n",
    "        return x ** 2"
   ]
  },
  {
   "cell_type": "code",
   "execution_count": 9,
   "id": "03f4dae5-5899-4bd1-9e43-275488ca543a",
   "metadata": {},
   "outputs": [],
   "source": [
    "p1 = Power()"
   ]
  },
  {
   "cell_type": "code",
   "execution_count": 10,
   "id": "d9dbfabc-515a-45d8-88c6-e58438143b35",
   "metadata": {},
   "outputs": [
    {
     "data": {
      "text/plain": [
       "16"
      ]
     },
     "execution_count": 10,
     "metadata": {},
     "output_type": "execute_result"
    }
   ],
   "source": [
    "p1.find_power(4)"
   ]
  },
  {
   "cell_type": "markdown",
   "id": "e15a98b0-ef32-4be7-86c7-a3518aee5efc",
   "metadata": {},
   "source": [
    "__2. Explain the concept of function arguments and parameters in Python.__"
   ]
  },
  {
   "cell_type": "markdown",
   "id": "a252ac0d-7d48-4de7-8c53-c95df4b838b6",
   "metadata": {},
   "source": [
    "ans: Parameters are the variables listed inside the parentheses in the function definition. \n",
    "Arguments are the values passed to the function when it is called."
   ]
  },
  {
   "cell_type": "code",
   "execution_count": 15,
   "id": "fe276626-a8ee-4f8d-86a8-af48414f0a6a",
   "metadata": {},
   "outputs": [],
   "source": [
    "# example of Arguments:\n",
    "def greet(name, age):\n",
    "    print(f\"Hello, {name}. You are {age} years old.\")"
   ]
  },
  {
   "cell_type": "code",
   "execution_count": 16,
   "id": "2bd5e9c2-ffe9-4591-b420-01542a491b3f",
   "metadata": {},
   "outputs": [
    {
     "name": "stdout",
     "output_type": "stream",
     "text": [
      "Hello, Nishan. You are 21 years old.\n"
     ]
    }
   ],
   "source": [
    "greet(age=21, name=\"Nishan\")"
   ]
  },
  {
   "cell_type": "code",
   "execution_count": 40,
   "id": "7d175e8f-00ee-46c5-8aed-99f7d974abb4",
   "metadata": {},
   "outputs": [],
   "source": [
    "# example of Parameter:\n",
    "def greet(name, age=21):\n",
    "    print(f\"Hello, {name}. You are {age} years old.\")"
   ]
  },
  {
   "cell_type": "code",
   "execution_count": 41,
   "id": "63b15098-625f-40cb-9d4e-3de1d28bb0bd",
   "metadata": {},
   "outputs": [
    {
     "name": "stdout",
     "output_type": "stream",
     "text": [
      "Hello, Nishan. You are 21 years old.\n"
     ]
    }
   ],
   "source": [
    "greet(\"Nishan\")"
   ]
  },
  {
   "cell_type": "markdown",
   "id": "db97af48-30a3-4216-91bc-6f23f105aade",
   "metadata": {},
   "source": [
    "__3. What are the different ways to define and call a function in Python?__"
   ]
  },
  {
   "cell_type": "markdown",
   "id": "5c645a08-f3d1-4ea5-af30-17f8abf2b3a3",
   "metadata": {},
   "source": [
    "ans: \n",
    "1.Standard Function Definition and Call:\n",
    "\n",
    "Definition: Use the def keyword followed by the function name and parameters.\n",
    "Call: Use the function name followed by parentheses, optionally passing arguments"
   ]
  },
  {
   "cell_type": "code",
   "execution_count": 19,
   "id": "70d6a95a-1e22-4cec-adc4-fda0c2b1a9c8",
   "metadata": {},
   "outputs": [],
   "source": [
    "def sumofnum(a,b):\n",
    "    return a+b"
   ]
  },
  {
   "cell_type": "code",
   "execution_count": 20,
   "id": "7c36c950-95c4-4a52-a8e0-6e650659f762",
   "metadata": {},
   "outputs": [
    {
     "data": {
      "text/plain": [
       "11"
      ]
     },
     "execution_count": 20,
     "metadata": {},
     "output_type": "execute_result"
    }
   ],
   "source": [
    "sumofnum(5,6)"
   ]
  },
  {
   "cell_type": "markdown",
   "id": "bc50c65e-49c0-4635-a36f-efefc091a3b5",
   "metadata": {},
   "source": [
    "2.Lambda Functions:\n",
    "\n",
    "Definition: Use the lambda keyword for small, anonymous functions.\n",
    "Call: Directly call the lambda function by assigning it to a variable"
   ]
  },
  {
   "cell_type": "code",
   "execution_count": 22,
   "id": "eac030b0-acc0-4295-af51-84599e6635af",
   "metadata": {},
   "outputs": [
    {
     "name": "stdout",
     "output_type": "stream",
     "text": [
      "120\n"
     ]
    }
   ],
   "source": [
    "fac_num = lambda n: 1 if n==0 else fac_num(n-1)*n\n",
    "print (fac_num(5))"
   ]
  },
  {
   "cell_type": "markdown",
   "id": "09761b9c-b60e-40a4-9944-2add0c6ba123",
   "metadata": {},
   "source": [
    "__4. What is the purpose of the `return` statement in a Python function?__"
   ]
  },
  {
   "cell_type": "markdown",
   "id": "2a68d0fa-21fa-4fbb-a37a-17f818b1014b",
   "metadata": {},
   "source": [
    "ans: The return statement in a Python function is used to exit the function and optionally pass back a value to the caller. It serves several important purposes:\n",
    "\n",
    "a.Return a Value: Send a result back to the caller.\n",
    "\n",
    "b.Exit Early: Terminate the function before reaching the end."
   ]
  },
  {
   "cell_type": "code",
   "execution_count": 23,
   "id": "fcb284f7-ba42-4f09-9f0a-3fa06f37d0b8",
   "metadata": {},
   "outputs": [],
   "source": [
    "def check_positive(number):\n",
    "    if number <= 0:\n",
    "        return \"Not positive\"\n",
    "    return \"Positive\""
   ]
  },
  {
   "cell_type": "code",
   "execution_count": 24,
   "id": "6cc400c1-958f-485f-8c74-7c43a2305b93",
   "metadata": {},
   "outputs": [
    {
     "data": {
      "text/plain": [
       "'Not positive'"
      ]
     },
     "execution_count": 24,
     "metadata": {},
     "output_type": "execute_result"
    }
   ],
   "source": [
    "check_positive(-7)"
   ]
  },
  {
   "cell_type": "markdown",
   "id": "73accfaa-56c8-400e-becb-7aeec504e05b",
   "metadata": {},
   "source": [
    "__5. What are iterators in Python and how do they differ from iterables?__"
   ]
  },
  {
   "cell_type": "markdown",
   "id": "35b195f3-4f99-47da-b645-77cd89097b19",
   "metadata": {},
   "source": [
    "ans: Iterables: Objects that can return an iterator, allowing iteration over their elements (e.g., lists, tuples, strings).\n"
   ]
  },
  {
   "cell_type": "code",
   "execution_count": 25,
   "id": "3a0662c7-985c-4c1a-a53c-a9057cbbdd36",
   "metadata": {},
   "outputs": [
    {
     "name": "stdout",
     "output_type": "stream",
     "text": [
      "1\n",
      "2\n",
      "3\n"
     ]
    }
   ],
   "source": [
    "my_list = [1, 2, 3]\n",
    "for item in my_list:\n",
    "    print(item)"
   ]
  },
  {
   "cell_type": "markdown",
   "id": "ff2142ae-80a3-4da0-b1f3-e6a92e110c2e",
   "metadata": {},
   "source": [
    "Iterators: An iterator is an object that allows traversal through a countable number of values. It is used to iterate over iterable objects like lists, tuples, sets, etc"
   ]
  },
  {
   "cell_type": "code",
   "execution_count": 26,
   "id": "eebf320e-9bb3-4d32-98af-c5f485437016",
   "metadata": {},
   "outputs": [
    {
     "name": "stdout",
     "output_type": "stream",
     "text": [
      "1\n",
      "2\n",
      "3\n"
     ]
    }
   ],
   "source": [
    "my_list = [1, 2, 3]\n",
    "iterator = iter(my_list) \n",
    "print(next(iterator))  \n",
    "print(next(iterator))\n",
    "print(next(iterator)) "
   ]
  },
  {
   "cell_type": "markdown",
   "id": "7df194a7-bba5-4f0a-baeb-c3c01566e13f",
   "metadata": {},
   "source": [
    "__6. Explain the concept of generators in Python and how they are defined.__"
   ]
  },
  {
   "cell_type": "markdown",
   "id": "c69bcfca-34ae-48e8-b7e4-de29c2071b34",
   "metadata": {},
   "source": [
    "ans: Generators are a simple way to create iterators using functions and the yield keyword instead of returning values."
   ]
  },
  {
   "cell_type": "markdown",
   "id": "96e14358-58dd-432f-91c1-3aef5802cccc",
   "metadata": {},
   "source": [
    "Key Points:\n",
    "\n",
    "yield Keyword:\n",
    "Yield vs. Return: Unlike the return statement, which exits the function, yield returns a value and pauses the function’s state, allowing it to resume from where it left off.\n",
    "\n",
    "Multiple Yields: Functions can yield multiple values over time, producing a sequence of results.\n",
    "Lazy Evaluation:\n",
    "\n",
    "On-Demand Data: Generators produce values one at a time and only when required, avoiding the need to generate or store all values upfront.\n",
    "Memory Efficiency: Since values are generated as needed and not all at once, generators use minimal memory.\n",
    "Characteristics:\n",
    "\n",
    "Iterables: Generators return data in an iterable format, allowing the sequence to be iterated over, much like a list or tuple.\n",
    "\n",
    "Advantages:\n",
    "\n",
    "Efficient Memory Usage: Generators do not store the entire sequence in memory, making them suitable for large datasets or infinite sequences.\n",
    "\n",
    "Simpler Syntax: Using yield simplifies the creation of iterators, making the code more concise and readable."
   ]
  },
  {
   "cell_type": "code",
   "execution_count": 28,
   "id": "af33fa15-e175-4c02-9524-29304b680c98",
   "metadata": {},
   "outputs": [],
   "source": [
    "def simple_generator(n):\n",
    "    while n>0:\n",
    "        yield n\n",
    "        n -= 1"
   ]
  },
  {
   "cell_type": "code",
   "execution_count": null,
   "id": "da8176f2-c046-4b25-94e9-92a836531a3f",
   "metadata": {},
   "outputs": [
    {
     "name": "stdout",
     "output_type": "stream",
     "text": [
      "10\n",
      "9\n",
      "8\n",
      "7\n",
      "6\n",
      "5\n",
      "4\n",
      "3\n",
      "2\n",
      "1\n"
     ]
    }
   ],
   "source": [
    "gen = simple_generator(10)\n",
    "for i in gen:\n",
    "    print (i)"
   ]
  },
  {
   "cell_type": "markdown",
   "id": "1a4130d3-67c9-4623-965f-edf513535125",
   "metadata": {},
   "source": [
    "__7. What are the advantages of using generators over regular functions?__"
   ]
  },
  {
   "cell_type": "markdown",
   "id": "f32c3c33-d108-49cc-a6f3-407b4738a07d",
   "metadata": {},
   "source": [
    "Efficient Memory Usage: Generators do not store the entire sequence in memory, making them suitable for large datasets or infinite sequences. \n",
    "\n",
    "Simpler Syntax: Using yield simplifies the creation of iterators, making the code more concise and readable."
   ]
  },
  {
   "cell_type": "markdown",
   "id": "207565bd-d568-4fdd-92ff-4e1cc447cc4a",
   "metadata": {},
   "source": [
    "__8. What is a lambda function in Python and when is it typically used?__"
   ]
  },
  {
   "cell_type": "markdown",
   "id": "eb6286d9-da35-4625-a0fc-55cc9eca67e4",
   "metadata": {},
   "source": [
    "ans: Lambda functions are small, anonymous functions defined using the lambda keyword. They are used for creating small, throwaway functions without the need to formally define a function using def."
   ]
  },
  {
   "cell_type": "code",
   "execution_count": 36,
   "id": "3c7e8ab2-4a34-4393-822a-f4562475a247",
   "metadata": {},
   "outputs": [
    {
     "name": "stdout",
     "output_type": "stream",
     "text": [
      "[0, 1, 1, 2, 3, 5, 8, 13, 21, 34]\n"
     ]
    }
   ],
   "source": [
    "# example using lambda function:\n",
    "fib_num = lambda n: n if n<=1 else fib_num(n-1)+fib_num(n-2)\n",
    "print([fib_num(i) for i in range(10)])"
   ]
  },
  {
   "cell_type": "markdown",
   "id": "d713d7a4-35d7-441c-8bca-ab2f989271d3",
   "metadata": {},
   "source": [
    "__9. Explain the purpose and usage of the `map()` function in Python.__"
   ]
  },
  {
   "cell_type": "markdown",
   "id": "445e09aa-758a-4c6b-88bb-ffc38b6cfba0",
   "metadata": {},
   "source": [
    "ans: The map function applies a given function to all items in an input iterable (like a list) and returns an iterator with the results."
   ]
  },
  {
   "cell_type": "code",
   "execution_count": 45,
   "id": "fdce9a2f-4319-4eac-bfb7-ad2d06221c18",
   "metadata": {},
   "outputs": [
    {
     "name": "stdout",
     "output_type": "stream",
     "text": [
      "[1, 4, 9, 16, 25, 36, 49]\n"
     ]
    }
   ],
   "source": [
    "num = [1,2,3,4,5,6,7]\n",
    "squareit = map(lambda x: x*x,num)\n",
    "print(list(squareit))"
   ]
  },
  {
   "cell_type": "markdown",
   "id": "85d0f863-c906-433d-aa70-11ef1197411e",
   "metadata": {},
   "source": [
    "__10. What is the difference between `map()`, `reduce()`, and `filter()` functions in Python?__"
   ]
  },
  {
   "cell_type": "markdown",
   "id": "39c52477-22dd-4407-91dc-d7de6f84e046",
   "metadata": {},
   "source": [
    "map():\n",
    "__Key Points:__\n",
    "__Transformation:__ Used to transform each item in an iterable by applying the specified function.\n",
    "__Syntax:__\n",
    "map(function, iterable)\n",
    "\n",
    "reduce():\n",
    "__Key Points:__\n",
    "__Cumulative Operation:__ It reduces an iterable to a single cumulative value by applying the function cumulatively.\n",
    "__Syntax:__\n",
    "from functools import reduce\n",
    "reduce(function, iterable)\n",
    "\n",
    "filter():\n",
    "__Key Points:__\n",
    "__Selection:__ Used for filtering elements from an iterable based on a condition defined by the function.\n",
    "__Syntax:__\n",
    "filter(function, iterable)"
   ]
  },
  {
   "cell_type": "code",
   "execution_count": 49,
   "id": "13f1b858-cda2-479b-8e9b-59dd3fb55e00",
   "metadata": {},
   "outputs": [
    {
     "name": "stdout",
     "output_type": "stream",
     "text": [
      "[1, 4, 9, 16, 25, 36, 49]\n"
     ]
    }
   ],
   "source": [
    "# map()\n",
    "num = [1,2,3,4,5,6,7]\n",
    "squareit = map(lambda x: x*x,num)\n",
    "print(list(squareit))"
   ]
  },
  {
   "cell_type": "code",
   "execution_count": 46,
   "id": "28334775-137c-499e-8bb0-8a1d937d26c9",
   "metadata": {},
   "outputs": [
    {
     "name": "stdout",
     "output_type": "stream",
     "text": [
      "28\n"
     ]
    }
   ],
   "source": [
    "# reduce()\n",
    "from functools import reduce\n",
    "num = [1,2,3,4,5,6,7]\n",
    "sum = reduce(lambda x,y:x+y,num)\n",
    "print(sum)"
   ]
  },
  {
   "cell_type": "code",
   "execution_count": 48,
   "id": "559a5234-19b3-4186-88a2-7b83ab1ef5f4",
   "metadata": {},
   "outputs": [
    {
     "name": "stdout",
     "output_type": "stream",
     "text": [
      "[2, 4, 6]\n"
     ]
    }
   ],
   "source": [
    "#filter()\n",
    "num = [1,2,3,4,5,6,7]\n",
    "findEven = filter(lambda x:x%2==0,num)\n",
    "print(list(findEven))"
   ]
  },
  {
   "cell_type": "markdown",
   "id": "df5a858e-a893-4155-a42a-bc9f01c7aa84",
   "metadata": {},
   "source": [
    "__11. Using pen & Paper write the internal mechanism for sum operation using reduce function on this given\n",
    "list:[47,11,42,13]__"
   ]
  },
  {
   "attachments": {
    "e0bfeb93-e10d-483d-a513-11ab24c7bff1.jpg": {
     "image/jpeg": "[encoded data removed]"
    }
   },
   "cell_type": "markdown",
   "id": "1777deac-9238-4854-a58a-d070ddbd6ba9",
   "metadata": {},
   "source": [
    "![WhatsApp Image 2024-08-07 at 15.45.15_718298fd.jpg](attachment:e0bfeb93-e10d-483d-a513-11ab24c7bff1.jpg)"
   ]
  },
  {
   "cell_type": "markdown",
   "id": "4e9be8b1-b6f8-429f-b89c-8114c72ed374",
   "metadata": {},
   "source": [
    "__Practical Questions:__"
   ]
  },
  {
   "cell_type": "markdown",
   "id": "4d84dbfa-6fc7-44c8-a4b4-25870bd406a9",
   "metadata": {},
   "source": [
    "__1. Write a Python function that takes a list of numbers as input and returns the sum of all even numbers in\n",
    "the list.__"
   ]
  },
  {
   "cell_type": "markdown",
   "id": "b2f075cd-465d-4466-a6d8-855735cd66d3",
   "metadata": {},
   "source": [
    "def sumOfEven(lst):\n",
    "    sumIt = filter(lambda x:x%2==0,lst)\n",
    "    total=0\n",
    "    for i in sumIt:\n",
    "        total += i\n",
    "    return total"
   ]
  },
  {
   "cell_type": "code",
   "execution_count": 51,
   "id": "0ec1808d-f037-464f-bebf-c48f3564bcab",
   "metadata": {},
   "outputs": [
    {
     "data": {
      "text/plain": [
       "30"
      ]
     },
     "execution_count": 51,
     "metadata": {},
     "output_type": "execute_result"
    }
   ],
   "source": [
    "ls1 = [1,2,3,4,5,6,7,8,9,10]\n",
    "sumOfEven(ls1)"
   ]
  },
  {
   "cell_type": "markdown",
   "id": "98533c49-23f1-468a-83f7-5ba40de02d8e",
   "metadata": {},
   "source": [
    "__2. Create a Python function that accepts a string and returns the reverse of that string.__"
   ]
  },
  {
   "cell_type": "code",
   "execution_count": 54,
   "id": "37bc372e-1086-43fb-abe8-928be0be1bfb",
   "metadata": {},
   "outputs": [],
   "source": [
    "def reverseStr(x):\n",
    "    return x[::-1]"
   ]
  },
  {
   "cell_type": "code",
   "execution_count": 55,
   "id": "098a2713-a41a-4920-959c-009291541117",
   "metadata": {},
   "outputs": [
    {
     "data": {
      "text/plain": [
       "'dlrow olleh'"
      ]
     },
     "execution_count": 55,
     "metadata": {},
     "output_type": "execute_result"
    }
   ],
   "source": [
    "reverseStr(\"hello world\")"
   ]
  },
  {
   "cell_type": "markdown",
   "id": "3c37ce3c-2c0a-4641-b62e-39c77476bd50",
   "metadata": {},
   "source": [
    "__3. Implement a Python function that takes a list of integers and returns a new list containing the squares of\n",
    "each number.__"
   ]
  },
  {
   "cell_type": "code",
   "execution_count": 6,
   "id": "7fcc5780-f050-40d9-bb02-f76f6a7526e4",
   "metadata": {},
   "outputs": [],
   "source": [
    "def square_numbers(nums):\n",
    "    return list(map(lambda x: x**2, nums))"
   ]
  },
  {
   "cell_type": "code",
   "execution_count": 8,
   "id": "9c0a639d-d32d-42b6-989b-e16bffb833f0",
   "metadata": {},
   "outputs": [
    {
     "data": {
      "text/plain": [
       "[1, 4, 9, 16, 25, 36, 49]"
      ]
     },
     "execution_count": 8,
     "metadata": {},
     "output_type": "execute_result"
    }
   ],
   "source": [
    "ls2 = [1,2,3,4,5,6,7]\n",
    "square_numbers(ls2)"
   ]
  },
  {
   "cell_type": "markdown",
   "id": "4edde1c2-27c3-47d4-9554-a0901112cb96",
   "metadata": {},
   "source": [
    "__4. Write a Python function that checks if a given number is prime or not from 1 to 200.__"
   ]
  },
  {
   "cell_type": "code",
   "execution_count": 11,
   "id": "c3dc10a8-2163-48d9-83e2-e41ad0c8ba7d",
   "metadata": {},
   "outputs": [],
   "source": [
    "def primeRange(start, end):\n",
    "    def prime(num):\n",
    "        if num <= 1:\n",
    "            return False\n",
    "        for i in range(2, num):\n",
    "            if num % i == 0:\n",
    "                return False\n",
    "        return True\n",
    "    \n",
    "    primes = []\n",
    "    for num in range(start, end + 1):\n",
    "        if prime(num):\n",
    "            primes.append(num)\n",
    "    return primes"
   ]
  },
  {
   "cell_type": "code",
   "execution_count": 12,
   "id": "dae7faa4-6d14-4bfe-bc77-e52eef171fc0",
   "metadata": {},
   "outputs": [
    {
     "data": {
      "text/plain": [
       "[2,\n",
       " 3,\n",
       " 5,\n",
       " 7,\n",
       " 11,\n",
       " 13,\n",
       " 17,\n",
       " 19,\n",
       " 23,\n",
       " 29,\n",
       " 31,\n",
       " 37,\n",
       " 41,\n",
       " 43,\n",
       " 47,\n",
       " 53,\n",
       " 59,\n",
       " 61,\n",
       " 67,\n",
       " 71,\n",
       " 73,\n",
       " 79,\n",
       " 83,\n",
       " 89,\n",
       " 97,\n",
       " 101,\n",
       " 103,\n",
       " 107,\n",
       " 109,\n",
       " 113,\n",
       " 127,\n",
       " 131,\n",
       " 137,\n",
       " 139,\n",
       " 149,\n",
       " 151,\n",
       " 157,\n",
       " 163,\n",
       " 167,\n",
       " 173,\n",
       " 179,\n",
       " 181,\n",
       " 191,\n",
       " 193,\n",
       " 197,\n",
       " 199]"
      ]
     },
     "execution_count": 12,
     "metadata": {},
     "output_type": "execute_result"
    }
   ],
   "source": [
    "primeRange(1,200)"
   ]
  },
  {
   "cell_type": "markdown",
   "id": "853fb741-fdb5-4fc4-9a82-1293f208e084",
   "metadata": {},
   "source": [
    "__5. Create an iterator class in Python that generates the Fibonacci sequence up to a specified number of\n",
    "terms.__"
   ]
  },
  {
   "cell_type": "code",
   "execution_count": null,
   "id": "5b82cfb7-d503-486c-85e5-5c16ab9b020f",
   "metadata": {},
   "outputs": [],
   "source": []
  },
  {
   "cell_type": "markdown",
   "id": "dfaf3d08-615e-4522-946e-3fe023b4a645",
   "metadata": {},
   "source": [
    "__6. Write a generator function in Python that yields the powers of 2 up to a given exponent.__"
   ]
  },
  {
   "cell_type": "code",
   "execution_count": 1,
   "id": "42928a2f-bfde-4338-924c-098e1ae10ad4",
   "metadata": {},
   "outputs": [],
   "source": [
    "def powerOfExponent(maxExponent):\n",
    "    exponent = 0\n",
    "    while(exponent <= maxExponent):\n",
    "        yield 2**exponent\n",
    "        exponent +=1\n",
    "        "
   ]
  },
  {
   "cell_type": "code",
   "execution_count": 2,
   "id": "68d6ffbe-7969-4321-8adb-cbfd64c1ed80",
   "metadata": {},
   "outputs": [
    {
     "name": "stdout",
     "output_type": "stream",
     "text": [
      "1\n",
      "2\n",
      "4\n",
      "8\n",
      "16\n",
      "32\n",
      "64\n",
      "128\n",
      "256\n",
      "512\n",
      "1024\n"
     ]
    }
   ],
   "source": [
    "maxExponent = 10\n",
    "for i in powerOfExponent(maxExponent):\n",
    "    print(i)"
   ]
  },
  {
   "cell_type": "markdown",
   "id": "57629fa2-9c33-4180-b0c6-c333a55c7595",
   "metadata": {},
   "source": [
    "__7. Implement a generator function that reads a file line by line and yields each line as a string.__"
   ]
  },
  {
   "cell_type": "markdown",
   "id": "cbffbd7b-0b45-4097-9c67-17ddf405c9c5",
   "metadata": {},
   "source": [
    "__8. Use a lambda function in Python to sort a list of tuples based on the second element of each tuple.__"
   ]
  },
  {
   "cell_type": "code",
   "execution_count": 7,
   "id": "f127c24f-92b0-4ad6-bb11-44d924c62955",
   "metadata": {},
   "outputs": [
    {
     "name": "stdout",
     "output_type": "stream",
     "text": [
      "[(5, 0, 6), (2, 1), (3, 2), (5, 4), (4, 5), (10, 9)]\n"
     ]
    }
   ],
   "source": [
    "data = [(2,1),(3,2),(4,5),(5,4),(5,0,6),(10,9)]\n",
    "sortedData = sorted(data, key = lambda x:x[1])\n",
    "print (sortedData)"
   ]
  },
  {
   "cell_type": "markdown",
   "id": "8ce90a67-4350-4734-9a56-9b7bb83a3519",
   "metadata": {},
   "source": [
    "__9. Write a Python program that uses `map()` to convert a list of temperatures from Celsius to Fahrenheit.__"
   ]
  },
  {
   "cell_type": "code",
   "execution_count": 15,
   "id": "831701bd-780f-42c8-aa9b-aaf65baa19de",
   "metadata": {},
   "outputs": [
    {
     "name": "stdout",
     "output_type": "stream",
     "text": [
      "[-4.0, -40.0, 96.8, 204.8, 32.0]\n"
     ]
    }
   ],
   "source": [
    "def cToF(temp):\n",
    "    return (temp*9/5)+32\n",
    "celciusTemp = [-20,-40,36,96,0]\n",
    "result = map(cToF,celciusTemp)\n",
    "print(list(result))"
   ]
  },
  {
   "cell_type": "markdown",
   "id": "2de1d312-2392-4095-b1b3-3de397e10d5e",
   "metadata": {},
   "source": [
    "__10. Create a Python program that uses `filter()` to remove all the vowels from a given string.__"
   ]
  },
  {
   "cell_type": "code",
   "execution_count": 16,
   "id": "cff8a8ec-c36b-4283-8795-a61a4c5d5046",
   "metadata": {},
   "outputs": [
    {
     "name": "stdout",
     "output_type": "stream",
     "text": [
      "Hll, Wrld!\n"
     ]
    }
   ],
   "source": [
    "def notViowel(char):\n",
    "    return char.lower() not in 'aeiou'\n",
    "input_string = \"Hello, World!\"\n",
    "filtered_chars = filter(notViowel, input_string)\n",
    "result_string = ''.join(filtered_chars)\n",
    "print(result_string)"
   ]
  },
  {
   "cell_type": "code",
   "execution_count": null,
   "id": "b3e96aec-b0d9-431c-b88e-1ce709491453",
   "metadata": {},
   "outputs": [],
   "source": []
  }
 ],
 "metadata": {
  "kernelspec": {
   "display_name": "Python 3 (ipykernel)",
   "language": "python",
   "name": "python3"
  },
  "language_info": {
   "codemirror_mode": {
    "name": "ipython",
    "version": 3
   },
   "file_extension": ".py",
   "mimetype": "text/x-python",
   "name": "python",
   "nbconvert_exporter": "python",
   "pygments_lexer": "ipython3",
   "version": "3.10.8"
  }
 },
 "nbformat": 4,
 "nbformat_minor": 5
}
